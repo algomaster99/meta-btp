{
 "cells": [
  {
   "cell_type": "code",
   "execution_count": 1,
   "metadata": {
    "id": "XN3E_9jz9wH_"
   },
   "outputs": [],
   "source": [
    "import numpy as np\n",
    "import pandas as pd\n",
    "import matplotlib.pyplot as plt\n",
    "import matplotlib.contour as cnt\n",
    "import matplotlib.artist.Artist.get_visible\n",
    "\n",
    "import scipy.stats\n",
    "import scipy.optimize as optimize\n",
    "from random import uniform\n",
    "from matplotlib.widgets import Slider"
   ]
  },
  {
   "cell_type": "code",
   "execution_count": 2,
   "metadata": {},
   "outputs": [],
   "source": [
    "sigma_xxyy = pd.read_csv('dataset/sigma_x-sigma_y.csv', sep=',', names=['sxx', 'syy'])\n",
    "sxx = sigma_xxyy['sxx']\n",
    "syy = sigma_xxyy['syy']"
   ]
  },
  {
   "cell_type": "code",
   "execution_count": 3,
   "metadata": {},
   "outputs": [],
   "source": [
    "def yld2000(sigma_x, sigma_y, alpha, a):\n",
    "    (alpha1, alpha2, alpha3, alpha4, alpha5, alpha6, alpha7, alpha8) = alpha\n",
    "    phi1 = abs(((2*alpha1+alpha2)/3)*sigma_x - ((2*alpha2+alpha1)/3)*sigma_y)**a\n",
    "    phi2 = abs(((2*alpha3-2*alpha4)/3)*sigma_x + ((4*alpha4-alpha3)/3)*sigma_y)**a + abs(((4*alpha5-alpha6)/3)*sigma_x + ((2*alpha6-2*alpha5)/3)*sigma_y)**a\n",
    "    \n",
    "    return ((phi1+phi2)/2)**(1/a)"
   ]
  },
  {
   "cell_type": "code",
   "execution_count": 33,
   "metadata": {},
   "outputs": [
    {
     "data": {
      "application/vnd.jupyter.widget-view+json": {
       "model_id": "7c89f126b3614807a35850644a2e320f",
       "version_major": 2,
       "version_minor": 0
      },
      "text/plain": [
       "Canvas(toolbar=Toolbar(toolitems=[('Home', 'Reset original view', 'home', 'home'), ('Back', 'Back to previous …"
      ]
     },
     "metadata": {},
     "output_type": "display_data"
    },
    {
     "data": {
      "text/plain": [
       "<matplotlib.legend.Legend at 0x7f677545c610>"
      ]
     },
     "execution_count": 33,
     "metadata": {},
     "output_type": "execute_result"
    }
   ],
   "source": [
    "def z_of_contour(ax, xmesh, ymesh, alpha, a, points, colors, ys):\n",
    "    z = []\n",
    "    for i in range(points):\n",
    "        temp = []\n",
    "        for j in range(points):\n",
    "            temp.append(yld2000(xmesh[i,j], ymesh[i,j], alpha, a))\n",
    "        z.append(temp)\n",
    "    z = np.array(z)\n",
    "\n",
    "    ax.contour(xmesh, ymesh, z-ys, levels=[1], colors=colors)\n",
    "\n",
    "alpha = np.array([0.9349, 1.0671, 0.9690, 0.9861, 1.0452, 0.9999, 0.9097, 1.0805])\n",
    "# alpha = np.array([1, 1, 1, 1, 1, 1, 1, 1])\n",
    "phi = np.linspace(0, 2 * np.pi, 100)\n",
    "sxx_sample = np.linspace(-200,200,500)\n",
    "syy_sample = np.linspace(-200,200,500)\n",
    "sx, sy = np.meshgrid(sxx, syy)\n",
    "sx_sample, sy_sample = np.meshgrid(sxx_sample, syy_sample)\n",
    "ys = 100\n",
    "a = 6\n",
    "\n",
    "%matplotlib widget\n",
    "\n",
    "fig , ax = plt.subplots(1,1)\n",
    "\n",
    "random_x = np.linspace(-200,200,len(sxx_sample))\n",
    "random_z = np.linspace(-200,200,len(sxx_sample))\n",
    "xx, zz = np.meshgrid(random_x, random_z)\n",
    "ax.contour(xx, np.zeros(len(sxx_sample)**2).reshape(xx.shape), zz, levels=[1], colors='yellow')\n",
    "\n",
    "random_y = np.linspace(-200,200,len(sxx_sample))\n",
    "yy, zz = np.meshgrid(random_y, random_z)\n",
    "ax.contour(np.zeros(len(sxx_sample)**2).reshape(xx.shape), yy, zz, levels=[1], colors='orange')\n",
    "\n",
    "z_of_contour(ax, sx, sy, alpha, a, len(sxx), 'green', ys)\n",
    "z_of_contour(ax, sx_sample, sy_sample, alpha, a, len(sxx_sample), 'red', ys)\n",
    "\n",
    "\n",
    "labels = ['|| to sx', '|| to sy', 'Experimental Data', 'Random Data']\n",
    "for i in range(len(labels)):\n",
    "    ax.collections[i].set_label(labels[i])\n",
    "\n",
    "ax.legend(loc='upper left')"
   ]
  },
  {
   "cell_type": "markdown",
   "metadata": {},
   "source": [
    "## Calculation of anisotropic parameters\n",
    "\n",
    "Reference: Hamzah Abdulrahman Alharthi, *Accurate descriptions of the anisotropic plastic yielding behaviour of various metallic sheets*, Chapter 3 Page 31, Equation 3.16 \n",
    "\n",
    "$$ F_{1} = \\left\\lvert{\\alpha_{1} \\frac{2}{3} - \\alpha_{2} \\left(\\frac{-1}{3}\\right)}\\right \\rvert^a  + \\left\\lvert{\\alpha_{3} \\frac{2}{3} + 2\\alpha_{4} \\left(\\frac{-1}{3}\\right)}\\right \\rvert^a + \\left\\lvert{2\\alpha_{5} \\frac{2}{3} + \\alpha_{6} \\left(\\frac{-1}{3}\\right)}\\right \\rvert^a - 2\\left(\\frac{\\overline{\\sigma}}{\\sigma_{0}}\\right)^a = 0 \\tag{1} $$\n",
    "\n",
    "$$ F_{2} = \\left\\lvert{\\alpha_{1} \\frac{-1}{3} - \\alpha_{2} \\left(\\frac{2}{3}\\right)}\\right \\rvert^a  + \\left\\lvert{\\alpha_{3} \\frac{-1}{3} + 2\\alpha_{4} \\left(\\frac{2}{3}\\right)}\\right \\rvert^a + \\left\\lvert{2\\alpha_{5} \\frac{-1}{3} + \\alpha_{6} \\left(\\frac{2}{3}\\right)}\\right \\rvert^a - 2\\left(\\frac{\\overline{\\sigma}}{\\sigma_{90}}\\right)^a = 0 \\tag{2} $$\n",
    "\n",
    "$$ F_{3} = \\left\\lvert{\\alpha_{1} \\frac{-1}{3} - \\alpha_{2} \\left(\\frac{-1}{3}\\right)}\\right \\rvert^a  + \\left\\lvert{\\alpha_{3} \\frac{-1}{3} + 2\\alpha_{4} \\left(\\frac{-1}{3}\\right)}\\right \\rvert^a + \\left\\lvert{2\\alpha_{5} \\frac{-1}{3} + \\alpha_{6} \\left(\\frac{-1}{3}\\right)}\\right \\rvert^a - 2\\left(\\frac{\\overline{\\sigma}}{\\sigma_{b}}\\right)^a = 0 \\tag{3} $$\n",
    "\n",
    "$$ G_{1} = \\left(\\alpha_{1}(1-R_{0}) + \\alpha_{2}(2+R_{0})\\right)\\left(\\alpha_{1} \\frac{2}{3} - \\alpha_{2} \\left(\\frac{-1}{3}\\right)\\right)\\left\\lvert{\\alpha_{1} \\frac{2}{3} - \\alpha_{2} \\left(\\frac{-1}{3}\\right)}\\right \\rvert^{a-2} +\n",
    "\\left(\\alpha_{3}(1-R_{0}) - 2\\alpha_{4}(2+R_{0})\\right)\\left(\\alpha_{3} \\frac{2}{3} + 2\\alpha_{4} \\left(\\frac{-1}{3}\\right)\\right)\\left\\lvert{\\alpha_{3} \\frac{2}{3} + 2\\alpha_{4} \\left(\\frac{-1}{3}\\right)}\\right \\rvert^{a-2} +\n",
    "\\left(2\\alpha_{5}(1-R_{0}) - \\alpha_{6}(2+R_{0})\\right)\\left(2\\alpha_{5} \\frac{2}{3} + \\alpha_{6} \\left(\\frac{-1}{3}\\right)\\right)\\left\\lvert{2\\alpha_{5} \\frac{2}{3} + \\alpha_{6} \\left(\\frac{-1}{3}\\right)}\\right \\rvert^{a-2} = 0 \\tag{4} $$\n",
    "\n",
    "$$ G_{2} = \\left(\\alpha_{1}(2+R_{90}) + \\alpha_{2}(1-R_{90})\\right)\\left(\\alpha_{1} \\frac{-1}{3} - \\alpha_{2} \\left(\\frac{2}{3}\\right)\\right)\\left\\lvert{\\alpha_{1} \\frac{-1}{3} - \\alpha_{2} \\left(\\frac{2}{3}\\right)}\\right \\rvert^{a-2} +\n",
    "\\left(\\alpha_{3}(2+R_{90}) - 2\\alpha_{4}(1-R_{90})\\right)\\left(\\alpha_{3} \\frac{-1}{3} + 2\\alpha_{4} \\left(\\frac{2}{3}\\right)\\right)\\left\\lvert{\\alpha_{3} \\frac{-1}{3} + 2\\alpha_{4} \\left(\\frac{2}{3}\\right)}\\right \\rvert^{a-2} +\n",
    "\\left(2\\alpha_{5}(2+R_{90}) - \\alpha_{6}(1-R_{90})\\right)\\left(2\\alpha_{5} \\frac{-1}{3} + \\alpha_{6} \\left(\\frac{2}{3}\\right)\\right)\\left\\lvert{2\\alpha_{5} \\frac{-1}{3} + \\alpha_{6} \\left(\\frac{2}{3}\\right)}\\right \\rvert^{a-2} = 0 \\tag{5} $$\n",
    "\n",
    "$$ G_{3} = \\left(\\alpha_{1}(1+2R_{b}) + \\alpha_{2}(2+R_{b})\\right)\\left(\\alpha_{1} \\frac{-1}{3} - \\alpha_{2} \\left(\\frac{-1}{3}\\right)\\right)\\left\\lvert{\\alpha_{1} \\frac{-1}{3} - \\alpha_{2} \\left(\\frac{-1}{3}\\right)}\\right \\rvert^{a-2} +\n",
    "\\left(\\alpha_{3}(1+2R_{b}) - 2\\alpha_{4}(2+R_{b})\\right)\\left(\\alpha_{3} \\frac{-1}{3} + 2\\alpha_{4} \\left(\\frac{-1}{3}\\right)\\right)\\left\\lvert{\\alpha_{3} \\frac{-1}{3} + 2\\alpha_{4} \\left(\\frac{-1}{3}\\right)}\\right \\rvert^{a-2} +\n",
    "\\left(2\\alpha_{5}(1+2R_{b}) - \\alpha_{6}(2+R_{b})\\right)\\left(2\\alpha_{5} \\frac{-1}{3} + \\alpha_{6} \\left(\\frac{-1}{3}\\right)\\right)\\left\\lvert{2\\alpha_{5} \\frac{-1}{3} + \\alpha_{6} \\left(\\frac{-1}{3}\\right)}\\right \\rvert^{a-2} = 0 \\tag{6} $$"
   ]
  },
  {
   "cell_type": "code",
   "execution_count": 34,
   "metadata": {},
   "outputs": [
    {
     "name": "stdout",
     "output_type": "stream",
     "text": [
      "[1 1 1 1 1 1]\n",
      "[1. 1. 1. 1. 1. 1.]\n",
      "[1. 1. 1. 1. 1. 1.]\n",
      "[1.00000001 1.         1.         1.         1.         1.        ]\n",
      "[1.         1.00000001 1.         1.         1.         1.        ]\n",
      "[1.         1.         1.00000001 1.         1.         1.        ]\n",
      "[1.         1.         1.         1.00000001 1.         1.        ]\n",
      "[1.         1.         1.         1.         1.00000001 1.        ]\n",
      "[1.         1.         1.         1.         1.         1.00000001]\n",
      "[1.01771197 1.07454987 1.1146693  0.97955752 0.97341386 1.00362923]\n",
      "[1.021693   1.05534674 1.12641936 0.97739812 0.96954124 0.99721116]\n",
      "[1.02050134 1.05891528 1.12910924 0.97703538 0.96861535 0.99474354]\n",
      "[1.02079894 1.05862928 1.12956513 0.9769867  0.96841597 0.99404784]\n",
      "[1.02077749 1.05859076 1.12954943 0.97699314 0.96840995 0.99398668]\n",
      "[1.020783   1.05859388 1.12954476 0.97699419 0.96841007 0.9939837 ]\n",
      "[1.02078229 1.05859398 1.1295435  0.97699444 0.96841026 0.99398387]\n",
      "[1.0207823  1.05859403 1.12954335 0.97699447 0.96841027 0.99398391]\n",
      "[1.0207823  1.05859403 1.12954334 0.97699447 0.96841027 0.99398392]\n",
      "alpha: [1.0207823  1.05859403 1.12954334 0.97699447 0.96841027 0.99398392]\n"
     ]
    }
   ],
   "source": [
    "r0 = 1.56\n",
    "r90 = 1.71\n",
    "rb = 1.11\n",
    "\n",
    "sigma0 = 1\n",
    "sigma90 = 0.995\n",
    "sigmab = 1.004\n",
    "\n",
    "parameters = {\n",
    "    1: {\n",
    "        'strength_ratio': sigma0,\n",
    "        'gamma': 2/3,\n",
    "        'delta': -1/3,\n",
    "        'p': 1-r0,\n",
    "        'q': 2+r0,\n",
    "    },\n",
    "    2: {\n",
    "        'strength_ratio': sigma90,\n",
    "        'gamma': -1/3,\n",
    "        'delta': 2/3,\n",
    "        'p': 2+r90,\n",
    "        'q': 1-r90,\n",
    "    },\n",
    "    3: {\n",
    "        'strength_ratio': sigmab,\n",
    "        'gamma': -1/3,\n",
    "        'delta': -1/3,\n",
    "        'p': 1+2*rb,\n",
    "        'q': 2+rb,\n",
    "    },\n",
    "}\n",
    "\n",
    "def F(gamma_j, delta_j, sigma_bar_sigma_j, alpha, a):\n",
    "    alpha1, alpha2, alpha3, alpha4, alpha5, alpha6 = alpha\n",
    "    x1 = abs(alpha1 * gamma_j - alpha2 * delta_j)**a\n",
    "    x2 = abs(alpha3 * gamma_j + 2*alpha4 * delta_j)**a\n",
    "    x3 = abs(2*alpha5 * gamma_j + alpha6 * delta_j)**a\n",
    "    return x1 + x2 + x3 - 2*(sigma_bar_sigma_j)**a\n",
    "\n",
    "def G(pj, qj, gamma_j, delta_j, alpha, a):\n",
    "    alpha1, alpha2, alpha3, alpha4, alpha5, alpha6 = alpha\n",
    "    x1 = (pj*alpha1 + qj*alpha2)*abs(alpha1 * gamma_j - alpha2 * delta_j)**(a-1)*np.sign(alpha1 * gamma_j - alpha2 * delta_j)\n",
    "    x2 = (pj*alpha3 - 2*qj*alpha4)*abs(alpha3 * gamma_j + 2*alpha4 * delta_j)**(a-1)*np.sign(alpha3 * gamma_j + 2*alpha4 * delta_j)\n",
    "    x3 = (2*pj*alpha5 - qj*alpha6)*abs(2*alpha5 * gamma_j + alpha6 * delta_j)**(a-1)*np.sign(2*alpha5 * gamma_j + alpha6 * delta_j)\n",
    "    return x1 + x2 + x3\n",
    "\n",
    "a = 6\n",
    "\n",
    "def func(alpha):\n",
    "    print(alpha)\n",
    "    yield_strength_eqs = [F(parameters[i]['gamma'], parameters[i]['delta'], parameters[i]['strength_ratio'], alpha, a) for i in parameters]\n",
    "    r_eqs = [G(parameters[i]['p'], parameters[i]['q'], parameters[i]['gamma'], parameters[i]['delta'], alpha, a) for i in parameters]\n",
    "    return yield_strength_eqs + r_eqs\n",
    "    \n",
    "result = optimize.root(func, [1,1,1,1,1,1], method='hybr')\n",
    "alpha = result.x\n",
    "print(f'alpha: {alpha}')"
   ]
  }
 ],
 "metadata": {
  "colab": {
   "name": "YLD2000.ipynb",
   "provenance": []
  },
  "kernelspec": {
   "display_name": "Python 3",
   "language": "python",
   "name": "python3"
  },
  "language_info": {
   "codemirror_mode": {
    "name": "ipython",
    "version": 3
   },
   "file_extension": ".py",
   "mimetype": "text/x-python",
   "name": "python",
   "nbconvert_exporter": "python",
   "pygments_lexer": "ipython3",
   "version": "3.8.5"
  }
 },
 "nbformat": 4,
 "nbformat_minor": 1
}
