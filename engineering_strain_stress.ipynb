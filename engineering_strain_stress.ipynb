{
 "cells": [
  {
   "cell_type": "markdown",
   "metadata": {
    "id": "Z4EozPcQ79nE"
   },
   "source": [
    "## Initialisation"
   ]
  },
  {
   "cell_type": "markdown",
   "metadata": {
    "id": "1bSHSv6t4_sF"
   },
   "source": [
    "### Dependencies"
   ]
  },
  {
   "cell_type": "markdown",
   "metadata": {
    "id": "te2Al2Ra8cKz"
   },
   "source": [
    "#### Third party"
   ]
  },
  {
   "cell_type": "code",
   "execution_count": 2,
   "metadata": {
    "colab": {
     "base_uri": "https://localhost:8080/"
    },
    "id": "wK3aGGq7zANC",
    "outputId": "0a68aeb8-a3dc-4721-e605-12a825dee461"
   },
   "outputs": [],
   "source": [
    "from matplotlib import pyplot as plt\n",
    "import numpy as np\n",
    "from scipy.signal import savgol_filter\n",
    "from sklearn.linear_model import LinearRegression \n",
    "from scipy import optimize \n",
    "from IPython.display import Latex                                                                                                                                                                                                                                                                "
   ]
  },
  {
   "cell_type": "markdown",
   "metadata": {
    "id": "XE1_dAsW8i7_"
   },
   "source": [
    "#### Personal notebooks"
   ]
  },
  {
   "cell_type": "code",
   "execution_count": 8,
   "metadata": {
    "colab": {
     "base_uri": "https://localhost:8080/"
    },
    "id": "ZZZAUWSntTHp",
    "outputId": "c6ea6063-6dc5-4c90-80ce-d68c3fa6ad06"
   },
   "outputs": [],
   "source": [
    "import ipynb\n",
    "from ipynb.fs.full.dataset_initialisation import (\n",
    "    x,\n",
    "    y,\n",
    "    x_label,\n",
    "    y_label,\n",
    ")\n",
    "from ipynb.fs.defs.utilities import (\n",
    "    differentiate,\n",
    "    group_by,\n",
    ")"
   ]
  },
  {
   "cell_type": "markdown",
   "metadata": {
    "id": "--6TkDG14Fas"
   },
   "source": [
    "### Notations"
   ]
  },
  {
   "cell_type": "markdown",
   "metadata": {
    "id": "LToFSkjoEsEq"
   },
   "source": [
    "- $\\sigma \\rightarrow$ True Stress\n",
    "- $\\epsilon \\rightarrow$ True Strain\n",
    "- $\\epsilon_{pl} \\rightarrow$ True Plastic Strain\n",
    "- $\\sigma_{ys} \\rightarrow$ Yield Strength\n",
    "- $\\sigma_{uts} \\rightarrow$ Ultimate Tensile Strength\n",
    "- $n \\rightarrow$ Work hardening Exponent\n",
    "- $E \\rightarrow$ Young's Modulus\n",
    "- $K \\rightarrow$ Strength Coefficient\n",
    "- $e \\rightarrow$ Engineering Strain\n",
    "- $s \\rightarrow$ Engineering Stress\n",
    "- $\\theta \\rightarrow$ Work hardening rate\n",
    "- $\\sigma - \\sigma_{ys} \\rightarrow$ Flow Stress"
   ]
  },
  {
   "cell_type": "markdown",
   "metadata": {
    "id": "42hnPyID5GAc"
   },
   "source": [
    "## Plot of Engineering Strain v/s Engineering Stress"
   ]
  },
  {
   "cell_type": "markdown",
   "metadata": {
    "id": "GHoYB99z2UYH"
   },
   "source": [
    "### Sanitise dataset and plot $e$ v/s $s$\n",
    "\n",
    "1. Remove the values where $s < 0$.\n",
    "2. Group multiple values of $s$ corresponding to the same value of $e$."
   ]
  },
  {
   "cell_type": "code",
   "execution_count": 9,
   "metadata": {
    "colab": {
     "base_uri": "https://localhost:8080/",
     "height": 279
    },
    "id": "4Xuw5QxV5LIN",
    "outputId": "74605c76-1318-4553-8680-30d7ab874f46"
   },
   "outputs": [
    {
     "data": {
      "image/png": "[encoded data removed]",
      "text/plain": [
       "<Figure size 432x288 with 1 Axes>"
      ]
     },
     "metadata": {
      "needs_background": "light"
     },
     "output_type": "display_data"
    }
   ],
   "source": [
    "# Remove negative engineering stresses\n",
    "item = len(x) - 1\n",
    "delete = []\n",
    "while item >=0:\n",
    "  if y[item] < 0:\n",
    "    delete.append(item)\n",
    "  item -= 1\n",
    "\n",
    "x.drop(delete)\n",
    "y.drop(delete)\n",
    "\n",
    "# Group duplicates\n",
    "x, y = group_by(x, y)\n",
    "plt.xlabel(x_label)\n",
    "plt.ylabel(y_label)\n",
    "_ = plt.plot(x,y)"
   ]
  },
  {
   "cell_type": "markdown",
   "metadata": {
    "id": "_FS9D9Fl3Z0g"
   },
   "source": [
    "### Reduce noise in the curve"
   ]
  },
  {
   "cell_type": "code",
   "execution_count": 10,
   "metadata": {
    "colab": {
     "base_uri": "https://localhost:8080/",
     "height": 265
    },
    "id": "iRuu5iaS3dj-",
    "outputId": "527acacb-adba-4352-fd0c-ec3df0291ab0"
   },
   "outputs": [
    {
     "data": {
      "image/png": "[encoded data removed]",
      "text/plain": [
       "<Figure size 432x288 with 1 Axes>"
      ]
     },
     "metadata": {
      "needs_background": "light"
     },
     "output_type": "display_data"
    }
   ],
   "source": [
    "#coefs = np.polyfit(x, y, 10)\n",
    "#y_polyfit = np.polyval(coefs, x)\n",
    "#plt.plot(x, y_fit, color='blue')\n",
    "#plt.scatter(x,y, color='yellow')\n",
    "def smooth(y, box_pts):\n",
    "    box = np.ones(box_pts)/box_pts\n",
    "    y_smooth = np.convolve(y, box, mode='same')\n",
    "    return y_smooth\n",
    "yhat = savgol_filter(y, 51, 11)\n",
    "y_fit = smooth(y,19)\n",
    "plt.scatter(x,y, color = 'yellow')\n",
    "plt.plot (x, y_fit, color = 'blue')\n",
    "plt.plot(x, yhat, color = 'red')\n",
    "test_x = np.log(x[1:])\n",
    "test_y = np.log(y[1:])\n",
    "#plt.plot(test_x,test_y)\n",
    "#print ('logx:', test_x)\n",
    "#print ('logy:', test_y)\n",
    "# print ('x:', x)\n",
    "# print ('y:', y)\n",
    "# print ('y_hat:', yhat)\n",
    "# print ('y_fit:', y_fit)\n",
    "# print('diff:',diff[2])"
   ]
  },
  {
   "cell_type": "markdown",
   "metadata": {
    "id": "k1qZ35OJ4hnt"
   },
   "source": [
    "## Calculation of Young's modulus ($E$)"
   ]
  },
  {
   "cell_type": "code",
   "execution_count": 11,
   "metadata": {
    "colab": {
     "base_uri": "https://localhost:8080/",
     "height": 299
    },
    "id": "hWzqzaag4nG5",
    "outputId": "513162ce-b9ec-4788-8a78-c8445cd59e00"
   },
   "outputs": [
    {
     "name": "stdout",
     "output_type": "stream",
     "text": [
      "Young's Modulus: 23.290674900073682 GPa\n",
      "Minimum chi squared: -95911.95664908217\n"
     ]
    },
    {
     "data": {
      "image/png": "[encoded data removed]",
      "text/plain": [
       "<Figure size 432x288 with 1 Axes>"
      ]
     },
     "metadata": {
      "needs_background": "light"
     },
     "output_type": "display_data"
    }
   ],
   "source": [
    "num_points = 900\n",
    "\n",
    "min_fit_length = 601\n",
    "\n",
    "chi = 0\n",
    "\n",
    "chi_min = 10000\n",
    "\n",
    "i_best = 0\n",
    "j_best = 0\n",
    "\n",
    "for i in range(len(x[:num_points]) - min_fit_length):\n",
    "  for j in range(i+min_fit_length, len(x[:num_points])):\n",
    "    start = i\n",
    "    end = j\n",
    "    # print(x[i:j], y[i:j])\n",
    "    coefs = np.polyfit(x[i:j],y[i:j],1)\n",
    "    y_linear = [i*coefs[0] + coefs[1] for i in x[start:end]]\n",
    "    chi = 0\n",
    "    for k in range(i,j):\n",
    "      chi += ((y_linear[k-start] - y[k])**2)/y[k]\n",
    "\n",
    "    if chi < chi_min:\n",
    "      i_best = i\n",
    "      j_best = j\n",
    "      chi_min = chi\n",
    "\n",
    "coefs = np.polyfit(x[i_best:j_best],y[i_best:j_best],1)\n",
    "y_linear = [i*coefs[0] + coefs[1] for i in x[i_best:j_best]]\n",
    "\n",
    "youngs_modulus = (y_linear[1] - y_linear[0])/(x[i_best+1] - x[i_best])\n",
    "print(f'Young\\'s Modulus: {youngs_modulus/1000} GPa')\n",
    "print(f'Minimum chi squared: {chi_min}')\n",
    "fig = plt.figure()\n",
    "ax = fig.add_subplot(111)\n",
    "ax.plot(x,y,'ro')\n",
    "ax.plot(x[i_best:j_best],y_linear,'b-')\n",
    "plt.show()"
   ]
  },
  {
   "cell_type": "markdown",
   "metadata": {
    "id": "rSTMZ29U41fc"
   },
   "source": [
    "For degree of freedom `600`, the critical $ \\chi^2 $ value for `5%` is `658.094`. So as long as the chi squared value is below the critical value, the fit cannot be rejected.\n",
    "\n",
    "Source: https://www.medcalc.org/manual/chi-square-table.php"
   ]
  },
  {
   "cell_type": "markdown",
   "metadata": {
    "id": "pES_O0PY4-Bp"
   },
   "source": [
    "## Calculation of Yield strength ($\\sigma_{ys}$)"
   ]
  },
  {
   "cell_type": "code",
   "execution_count": 12,
   "metadata": {
    "colab": {
     "base_uri": "https://localhost:8080/",
     "height": 496
    },
    "id": "oQZZ7Ej_5KTo",
    "outputId": "cea035eb-a877-4962-bfa7-2b5628be3587"
   },
   "outputs": [
    {
     "name": "stdout",
     "output_type": "stream",
     "text": [
      "Yield Strength: 246.24515 MPa\n"
     ]
    },
    {
     "data": {
      "image/png": "[encoded data removed]",
      "text/plain": [
       "<Figure size 432x288 with 1 Axes>"
      ]
     },
     "metadata": {
      "needs_background": "light"
     },
     "output_type": "display_data"
    }
   ],
   "source": [
    "required_points = 1200\n",
    "parallel_line_y = [(i - 0.002)*youngs_modulus for i in x[:required_points]]\n",
    "plt.plot(x[:required_points], parallel_line_y)\n",
    "plt.plot(x[:required_points],y[:required_points])\n",
    "intersection = np.argwhere(np.diff(np.sign([parallel_line_y[i] - y[i] for i in range(required_points)]))).flatten()\n",
    "plt.plot(x[intersection[0]], y[intersection[0]], 'ro')\n",
    "plt.xlabel(x_label)\n",
    "plt.ylabel(y_label)\n",
    "yield_strength = y[intersection[0]]\n",
    "plt.annotate(f'Yield Strength: {yield_strength}', (x[intersection[0]], y[intersection[0]]))\n",
    "# 0th index because there is only one intersection point\n",
    "print(f'Yield Strength: {yield_strength} MPa')"
   ]
  },
  {
   "cell_type": "markdown",
   "metadata": {
    "id": "Qz2hXt4N5Tno"
   },
   "source": [
    "## Calculation of Ultimate tensile strength ($\\sigma_{uts}$)"
   ]
  },
  {
   "cell_type": "code",
   "execution_count": 13,
   "metadata": {
    "id": "nAcaaVC75UQl"
   },
   "outputs": [
    {
     "name": "stdout",
     "output_type": "stream",
     "text": [
      "Ultimate Tensile Strength is 362.27072 MPa at 18.095% elongation.\n"
     ]
    },
    {
     "data": {
      "image/png": "[encoded data removed]",
      "text/plain": [
       "<Figure size 432x288 with 1 Axes>"
      ]
     },
     "metadata": {
      "needs_background": "light"
     },
     "output_type": "display_data"
    }
   ],
   "source": [
    "# Fetch the max value of the engineering stress from the dataset.\n",
    "uts_abscissa = 0\n",
    "uts = y[uts_abscissa]\n",
    "for i in range(0,len(y)):\n",
    "    if y[i] >= uts:\n",
    "        uts = y[i]\n",
    "        uts_abscissa = i\n",
    "uts_strain = x[uts_abscissa]\n",
    "plt.plot(x,y)\n",
    "plt.plot(uts_strain, uts, 'ro')\n",
    "plt.xlabel(x_label)\n",
    "plt.ylabel(y_label)\n",
    "print(f'Ultimate Tensile Strength is {uts} MPa at {uts_strain*100}% elongation.')"
   ]
  },
  {
   "cell_type": "markdown",
   "metadata": {},
   "source": [
    "### Plastic Region"
   ]
  },
  {
   "cell_type": "code",
   "execution_count": null,
   "metadata": {},
   "outputs": [],
   "source": [
    "plt.plot(x[intersection[0]], y[intersection[0]], 'ro') # YS\n",
    "plt.plot(uts_strain, uts, 'ro') # UTS\n",
    "# there is only one intersection point\n",
    "start = intersection[0]\n",
    "end = uts_abscissa+1\n",
    "plt.plot(x[start:end], y[start:end])\n",
    "# supresses ouput while setting x,y labels\n",
    "_ = plt.xlabel(x_label)\n",
    "_ = plt.ylabel(y_label)"
   ]
  }
 ],
 "metadata": {
  "colab": {
   "collapsed_sections": [],
   "name": "work_hardening_analysis.ipynb",
   "provenance": [],
   "toc_visible": true
  },
  "kernelspec": {
   "display_name": "Python 3",
   "language": "python",
   "name": "python3"
  },
  "language_info": {
   "codemirror_mode": {
    "name": "ipython",
    "version": 3
   },
   "file_extension": ".py",
   "mimetype": "text/x-python",
   "name": "python",
   "nbconvert_exporter": "python",
   "pygments_lexer": "ipython3",
   "version": "3.8.5"
  }
 },
 "nbformat": 4,
 "nbformat_minor": 1
}
