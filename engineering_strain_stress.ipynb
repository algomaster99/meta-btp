{
 "cells": [
  {
   "cell_type": "markdown",
   "metadata": {
    "id": "Z4EozPcQ79nE"
   },
   "source": [
    "## Initialisation"
   ]
  },
  {
   "cell_type": "markdown",
   "metadata": {
    "id": "1bSHSv6t4_sF"
   },
   "source": [
    "### Dependencies"
   ]
  },
  {
   "cell_type": "markdown",
   "metadata": {
    "id": "te2Al2Ra8cKz"
   },
   "source": [
    "#### Third party"
   ]
  },
  {
   "cell_type": "code",
   "execution_count": 1,
   "metadata": {
    "colab": {
     "base_uri": "https://localhost:8080/"
    },
    "id": "wK3aGGq7zANC",
    "outputId": "0a68aeb8-a3dc-4721-e605-12a825dee461"
   },
   "outputs": [],
   "source": [
    "from matplotlib import pyplot as plt\n",
    "import statsmodels.api as sm \n",
    "import numpy as np\n",
    "from scipy.signal import savgol_filter\n",
    "from sklearn.linear_model import LinearRegression \n",
    "from scipy import optimize \n",
    "from IPython.display import Latex                                                                                                                                                                                                                                                                "
   ]
  },
  {
   "cell_type": "markdown",
   "metadata": {
    "id": "XE1_dAsW8i7_"
   },
   "source": [
    "#### Personal notebooks"
   ]
  },
  {
   "cell_type": "code",
   "execution_count": 2,
   "metadata": {
    "colab": {
     "base_uri": "https://localhost:8080/"
    },
    "id": "ZZZAUWSntTHp",
    "outputId": "c6ea6063-6dc5-4c90-80ce-d68c3fa6ad06"
   },
   "outputs": [],
   "source": [
    "import ipynb\n",
    "from ipynb.fs.full.dataset_initialisation import (\n",
    "    x,\n",
    "    y,\n",
    "    x_label,\n",
    "    y_label,\n",
    "    OUTPUT_DIR,\n",
    ")\n",
    "from ipynb.fs.defs.utilities import (\n",
    "    differentiate,\n",
    "    group_by,\n",
    "    find_nearest,\n",
    "    save_fig,\n",
    "    save_parameter,\n",
    ")"
   ]
  },
  {
   "cell_type": "markdown",
   "metadata": {
    "id": "--6TkDG14Fas"
   },
   "source": [
    "### Notations"
   ]
  },
  {
   "cell_type": "markdown",
   "metadata": {
    "id": "LToFSkjoEsEq"
   },
   "source": [
    "- $\\sigma \\rightarrow$ True Stress\n",
    "- $\\epsilon \\rightarrow$ True Strain\n",
    "- $\\epsilon_{pl} \\rightarrow$ True Plastic Strain\n",
    "- $\\sigma_{ys} \\rightarrow$ Yield Strength\n",
    "- $\\sigma_{uts} \\rightarrow$ Ultimate Tensile Strength\n",
    "- $n \\rightarrow$ Work hardening Exponent\n",
    "- $E \\rightarrow$ Young's Modulus\n",
    "- $K \\rightarrow$ Strength Coefficient\n",
    "- $e \\rightarrow$ Engineering Strain\n",
    "- $s \\rightarrow$ Engineering Stress\n",
    "- $\\theta \\rightarrow$ Work hardening rate\n",
    "- $\\sigma - \\sigma_{ys} \\rightarrow$ Flow Stress"
   ]
  },
  {
   "cell_type": "markdown",
   "metadata": {
    "id": "42hnPyID5GAc"
   },
   "source": [
    "## Plot of Engineering Strain v/s Engineering Stress"
   ]
  },
  {
   "cell_type": "markdown",
   "metadata": {
    "id": "GHoYB99z2UYH"
   },
   "source": [
    "### Sanitise dataset and plot $e$ v/s $s$\n",
    "\n",
    "1. Remove the values where $s < 0$.\n",
    "2. Group multiple values of $s$ corresponding to the same value of $e$."
   ]
  },
  {
   "cell_type": "code",
   "execution_count": 3,
   "metadata": {
    "colab": {
     "base_uri": "https://localhost:8080/",
     "height": 279
    },
    "id": "4Xuw5QxV5LIN",
    "outputId": "74605c76-1318-4553-8680-30d7ab874f46"
   },
   "outputs": [],
   "source": [
    "# Remove negative engineering stresses\n",
    "item = len(x) - 1\n",
    "delete = []\n",
    "while item >=0:\n",
    "  if y[item] < 0:\n",
    "    delete.append(item)\n",
    "  item -= 1\n",
    "\n",
    "_ = x.drop(delete)\n",
    "_ = y.drop(delete)"
   ]
  },
  {
   "cell_type": "code",
   "execution_count": 4,
   "metadata": {},
   "outputs": [
    {
     "data": {
      "image/png": "[encoded data removed]",
      "text/plain": [
       "<Figure size 432x288 with 1 Axes>"
      ]
     },
     "metadata": {
      "needs_background": "light"
     },
     "output_type": "display_data"
    }
   ],
   "source": [
    "x, y = group_by(x, y)\n",
    "plt.xlabel(x_label)\n",
    "plt.ylabel(y_label)\n",
    "_ = plt.plot(x,y)\n",
    "save_fig(plt, 'savefig', f'{OUTPUT_DIR}/Engineering stress vs strain.png')"
   ]
  },
  {
   "cell_type": "markdown",
   "metadata": {
    "id": "_FS9D9Fl3Z0g"
   },
   "source": [
    "### Reduce noise in the curve"
   ]
  },
  {
   "cell_type": "code",
   "execution_count": 5,
   "metadata": {
    "colab": {
     "base_uri": "https://localhost:8080/",
     "height": 265
    },
    "id": "iRuu5iaS3dj-",
    "outputId": "527acacb-adba-4352-fd0c-ec3df0291ab0"
   },
   "outputs": [
    {
     "data": {
      "image/png": "[encoded data removed]",
      "text/plain": [
       "<Figure size 432x288 with 1 Axes>"
      ]
     },
     "metadata": {
      "needs_background": "light"
     },
     "output_type": "display_data"
    }
   ],
   "source": [
    "def smooth(y, box_pts):\n",
    "    box = np.ones(box_pts)/box_pts\n",
    "    y_smooth = np.convolve(y, box, mode='same')\n",
    "    return y_smooth\n",
    "\n",
    "y_smooth = smooth(y,5)\n",
    "_ = plt.plot(x,y, 'yo')\n",
    "_ = plt.plot(x, y_smooth, color = 'blue')\n",
    "_ = plt.grid(True)"
   ]
  },
  {
   "cell_type": "markdown",
   "metadata": {
    "id": "k1qZ35OJ4hnt"
   },
   "source": [
    "## Calculation of Young's modulus ($E$)"
   ]
  },
  {
   "cell_type": "code",
   "execution_count": 6,
   "metadata": {
    "colab": {
     "base_uri": "https://localhost:8080/",
     "height": 299
    },
    "id": "hWzqzaag4nG5",
    "outputId": "513162ce-b9ec-4788-8a78-c8445cd59e00"
   },
   "outputs": [
    {
     "name": "stdout",
     "output_type": "stream",
     "text": [
      "Enter the value of engineering strain upto which the line seems linear (used in calculation of Youngs modulus) in the units same as in dataset: 0.01\n",
      "Enter the value of engineering stress upto which the line seems linear (used in calculation of Youngs modulus) in the units same as in dataset: 470\n",
      "Young's Modulus: 19.761925308919306 GPa\n"
     ]
    },
    {
     "data": {
      "image/png": "[encoded data removed]",
      "text/plain": [
       "<Figure size 432x288 with 1 Axes>"
      ]
     },
     "metadata": {
      "needs_background": "light"
     },
     "output_type": "display_data"
    }
   ],
   "source": [
    "educated_guess_strain = float(input(\n",
    "    'Enter the value of engineering strain upto which the line seems linear '\n",
    "    '(used in calculation of Youngs modulus) in the units same as in dataset: '\n",
    "    ))\n",
    "educated_guess_stress = float(input(\n",
    "    'Enter the value of engineering stress upto which the line seems linear '\n",
    "    '(used in calculation of Youngs modulus) in the units same as in dataset: '\n",
    "    ))\n",
    "guessed_index = find_nearest(x, y_smooth, educated_guess_strain, educated_guess_stress)\n",
    "\n",
    "x_smooth = sm.add_constant(x) \n",
    "result = sm.OLS(y_smooth[:guessed_index], x_smooth[:guessed_index]).fit() \n",
    "\n",
    "_, youngs_modulus = result.params\n",
    "\n",
    "y_linear = [(i*youngs_modulus + _) for i in x]\n",
    "\n",
    "_ = plt.plot(x[:guessed_index],y_linear[:guessed_index], 'ro')\n",
    "_ = plt.plot(x,y_smooth)\n",
    "\n",
    "print(f'Young\\'s Modulus: {youngs_modulus/1000} GPa')\n",
    "\n",
    "save_fig(plt, 'savefig', f'{OUTPUT_DIR}/Youngs modulus calculation')\n",
    "save_parameter('Young\\'s Modulus', youngs_modulus, 'MPa', f'{OUTPUT_DIR}/output.txt')"
   ]
  },
  {
   "cell_type": "markdown",
   "metadata": {
    "id": "pES_O0PY4-Bp"
   },
   "source": [
    "## Calculation of Yield strength ($\\sigma_{ys}$)"
   ]
  },
  {
   "cell_type": "code",
   "execution_count": 7,
   "metadata": {
    "colab": {
     "base_uri": "https://localhost:8080/",
     "height": 496
    },
    "id": "oQZZ7Ej_5KTo",
    "outputId": "cea035eb-a877-4962-bfa7-2b5628be3587",
    "scrolled": true
   },
   "outputs": [
    {
     "name": "stdout",
     "output_type": "stream",
     "text": [
      "Yield Strength: 481.4689680000001 MPa\n"
     ]
    },
    {
     "data": {
      "image/png": "[encoded data removed]",
      "text/plain": [
       "<Figure size 432x288 with 1 Axes>"
      ]
     },
     "metadata": {
      "needs_background": "light"
     },
     "output_type": "display_data"
    }
   ],
   "source": [
    "parallel_line_y = [(i - 0.002)*youngs_modulus for i in x]\n",
    "plt.plot(x,y_smooth)\n",
    "intersection = np.argwhere(np.diff(np.sign([parallel_line_y[i] - y_smooth[i] for i in range(len(y_smooth))]))).flatten()\n",
    "plt.plot(x[intersection[0]], y_smooth[intersection[0]], 'ro')\n",
    "\n",
    "# 200 is added as a scaling factor so that the intersection point is easily viewable\n",
    "plt.plot(x[:(intersection[0]+200)], parallel_line_y[:(intersection[0]+200)])\n",
    "plt.xlabel(x_label)\n",
    "plt.ylabel(y_label)\n",
    "yield_strength = y_smooth[intersection[0]]\n",
    "plt.annotate(f'Yield Strength: {yield_strength}', (x[intersection[0]], y_smooth[intersection[0]]))\n",
    "\n",
    "\n",
    "    \n",
    "save_fig(plt, 'savefig', f'{OUTPUT_DIR}/Yield Strength')    \n",
    "\n",
    "# 0th index because there is only one intersection point\n",
    "print(f'Yield Strength: {yield_strength} MPa')\n",
    "\n",
    "save_parameter ('Yield Strength', yield_strength, 'MPa', f'{OUTPUT_DIR}/output.txt')"
   ]
  },
  {
   "cell_type": "markdown",
   "metadata": {
    "id": "Qz2hXt4N5Tno"
   },
   "source": [
    "## Calculation of Ultimate tensile strength ($\\sigma_{uts}$)"
   ]
  },
  {
   "cell_type": "code",
   "execution_count": 8,
   "metadata": {
    "id": "nAcaaVC75UQl"
   },
   "outputs": [
    {
     "name": "stdout",
     "output_type": "stream",
     "text": [
      "Ultimate Tensile Strength is 524.425548 MPa at 31.816329999999997% elongation.\n"
     ]
    },
    {
     "data": {
      "image/png": "[encoded data removed]",
      "text/plain": [
       "<Figure size 432x288 with 1 Axes>"
      ]
     },
     "metadata": {
      "needs_background": "light"
     },
     "output_type": "display_data"
    }
   ],
   "source": [
    "# Fetch the max value of the engineering stress from the dataset.\n",
    "uts_abscissa = 0\n",
    "uts = y_smooth[uts_abscissa]\n",
    "for i in range(0,len(y_smooth)):\n",
    "    if y_smooth[i] >= uts:\n",
    "        uts = y_smooth[i]\n",
    "        uts_abscissa = i\n",
    "uts_strain = x[uts_abscissa]\n",
    "plt.plot(x,y_smooth)\n",
    "plt.plot(uts_strain, uts, 'ro')\n",
    "plt.xlabel(x_label)\n",
    "plt.ylabel(y_label)\n",
    "save_fig(plt, 'savefig', f'{OUTPUT_DIR}/UTS calculation')\n",
    "print(f'Ultimate Tensile Strength is {uts} MPa at {uts_strain*100}% elongation.')\n",
    "save_parameter ('Ultimate Tensile Strength', uts, 'MPa', f'{OUTPUT_DIR}/output.txt')\n",
    "save_parameter ('Uniform Elongation', uts_strain, '', f'{OUTPUT_DIR}/output.txt')"
   ]
  },
  {
   "cell_type": "markdown",
   "metadata": {},
   "source": [
    "### Plastic Region"
   ]
  },
  {
   "cell_type": "code",
   "execution_count": 9,
   "metadata": {},
   "outputs": [
    {
     "data": {
      "image/png": "[encoded data removed]",
      "text/plain": [
       "<Figure size 432x288 with 1 Axes>"
      ]
     },
     "metadata": {
      "needs_background": "light"
     },
     "output_type": "display_data"
    }
   ],
   "source": [
    "plt.plot(x[intersection[0]], y_smooth[intersection[0]], 'ro') # YS\n",
    "plt.plot(uts_strain, uts, 'ro') # UTS\n",
    "# there is only one intersection point\n",
    "start = intersection[0]\n",
    "end = uts_abscissa+1\n",
    "plt.plot(x[start:end], y_smooth[start:end])\n",
    "# supresses ouput while setting x,y labels\n",
    "_ = plt.xlabel(x_label)\n",
    "_ = plt.ylabel(y_label)"
   ]
  },
  {
   "cell_type": "code",
   "execution_count": 12,
   "metadata": {},
   "outputs": [],
   "source": [
    "x_plastic_region = x[start:end]\n",
    "y_smooth_plastic_region = y_smooth[start:end]"
   ]
  }
 ],
 "metadata": {
  "colab": {
   "collapsed_sections": [],
   "name": "work_hardening_analysis.ipynb",
   "provenance": [],
   "toc_visible": true
  },
  "kernelspec": {
   "display_name": "Python 3",
   "language": "python",
   "name": "python3"
  },
  "language_info": {
   "codemirror_mode": {
    "name": "ipython",
    "version": 3
   },
   "file_extension": ".py",
   "mimetype": "text/x-python",
   "name": "python",
   "nbconvert_exporter": "python",
   "pygments_lexer": "ipython3",
   "version": "3.8.5"
  }
 },
 "nbformat": 4,
 "nbformat_minor": 1
}
