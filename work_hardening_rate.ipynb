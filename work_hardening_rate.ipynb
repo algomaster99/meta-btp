{
  "nbformat": 4,
  "nbformat_minor": 0,
  "metadata": {
    "colab": {
      "name": "work_hardening_rate.ipynb",
      "provenance": [],
      "authorship_tag": "ABX9TyPdMYqSucZBEsZSheu1STc0",
      "include_colab_link": true
    },
    "kernelspec": {
      "name": "python3",
      "display_name": "Python 3"
    }
  },
  "cells": [
    {
      "cell_type": "markdown",
      "metadata": {
        "id": "view-in-github",
        "colab_type": "text"
      },
      "source": [
        "<a href=\"https://colab.research.google.com/github/algomaster99/meta-btp/blob/master/work_hardening_rate.ipynb\" target=\"_parent\"><img src=\"https://colab.research.google.com/assets/colab-badge.svg\" alt=\"Open In Colab\"/></a>"
      ]
    },
    {
      "cell_type": "markdown",
      "metadata": {
        "id": "vxJ7d4g09WWm"
      },
      "source": [
        "### Dependencies"
      ]
    },
    {
      "cell_type": "markdown",
      "metadata": {
        "id": "te2Al2Ra8cKz"
      },
      "source": [
        "#### Third party"
      ]
    },
    {
      "cell_type": "code",
      "metadata": {
        "colab": {
          "base_uri": "https://localhost:8080/"
        },
        "id": "wK3aGGq7zANC",
        "outputId": "6c812405-246f-4500-ff64-4b5e0ee08d12"
      },
      "source": [
        "from google.colab import drive\n",
        "drive.mount('/content/drive')\n",
        "\n",
        "%cd '/content/drive/MyDrive/Colab Notebooks'\n",
        "\n",
        "from matplotlib import pyplot as plt\n",
        "import numpy as np"
      ],
      "execution_count": null,
      "outputs": [
        {
          "output_type": "stream",
          "text": [
            "Drive already mounted at /content/drive; to attempt to forcibly remount, call drive.mount(\"/content/drive\", force_remount=True).\n",
            "/content/drive/MyDrive/Colab Notebooks\n"
          ],
          "name": "stdout"
        }
      ]
    },
    {
      "cell_type": "markdown",
      "metadata": {
        "id": "XE1_dAsW8i7_"
      },
      "source": [
        "#### Personal notebooks"
      ]
    },
    {
      "cell_type": "code",
      "metadata": {
        "id": "ZZZAUWSntTHp",
        "colab": {
          "base_uri": "https://localhost:8080/",
          "height": 384
        },
        "outputId": "0683dd63-90c4-42b4-db1f-60f59253e8c9"
      },
      "source": [
        "!pip install import-ipynb\n",
        "import import_ipynb\n",
        "from utilities import differentiate\n",
        "# import engineering_stress_strain_to_true_stress_strain\n",
        "from engineering_stress_strain_to_true_stress_strain import (\n",
        "  true_plastic_strain,\n",
        "  true_stress,\n",
        "  yield_strength,\n",
        ")"
      ],
      "execution_count": null,
      "outputs": [
        {
          "output_type": "stream",
          "text": [
            "Requirement already satisfied: import-ipynb in /usr/local/lib/python3.6/dist-packages (0.1.3)\n"
          ],
          "name": "stdout"
        },
        {
          "output_type": "error",
          "ename": "ImportError",
          "evalue": "ignored",
          "traceback": [
            "\u001b[0;31m---------------------------------------------------------------------------\u001b[0m",
            "\u001b[0;31mImportError\u001b[0m                               Traceback (most recent call last)",
            "\u001b[0;32m<ipython-input-38-bc8707164a07>\u001b[0m in \u001b[0;36m<module>\u001b[0;34m()\u001b[0m\n\u001b[1;32m      3\u001b[0m \u001b[0;32mfrom\u001b[0m \u001b[0mutilities\u001b[0m \u001b[0;32mimport\u001b[0m \u001b[0mdifferentiate\u001b[0m\u001b[0;34m\u001b[0m\u001b[0;34m\u001b[0m\u001b[0m\n\u001b[1;32m      4\u001b[0m \u001b[0;31m# import engineering_stress_strain_to_true_stress_strain\u001b[0m\u001b[0;34m\u001b[0m\u001b[0;34m\u001b[0m\u001b[0;34m\u001b[0m\u001b[0m\n\u001b[0;32m----> 5\u001b[0;31m from engineering_stress_strain_to_true_stress_strain import (\n\u001b[0m\u001b[1;32m      6\u001b[0m   \u001b[0mtrue_plastic_strain\u001b[0m\u001b[0;34m,\u001b[0m\u001b[0;34m\u001b[0m\u001b[0;34m\u001b[0m\u001b[0m\n\u001b[1;32m      7\u001b[0m   \u001b[0mtrue_stress\u001b[0m\u001b[0;34m,\u001b[0m\u001b[0;34m\u001b[0m\u001b[0;34m\u001b[0m\u001b[0m\n",
            "\u001b[0;31mImportError\u001b[0m: cannot import name 'true_plastic_strain'",
            "",
            "\u001b[0;31m---------------------------------------------------------------------------\u001b[0;32m\nNOTE: If your import is failing due to a missing package, you can\nmanually install dependencies using either !pip or !apt.\n\nTo view examples of installing some common dependencies, click the\n\"Open Examples\" button below.\n\u001b[0;31m---------------------------------------------------------------------------\u001b[0m\n"
          ]
        }
      ]
    },
    {
      "cell_type": "markdown",
      "metadata": {
        "id": "--6TkDG14Fas"
      },
      "source": [
        "### Notations\n",
        "- $\\sigma \\rightarrow$ True Stress\n",
        "- $\\epsilon \\rightarrow$ True Strain\n",
        "- $\\epsilon_{pl} \\rightarrow$ True Plastic Strain\n",
        "- $\\sigma_{ys} \\rightarrow$ Yield Strength\n",
        "- $\\sigma_{uts} \\rightarrow$ Ultimate Tensile Strength\n",
        "- $n \\rightarrow$ Work hardening Exponent\n",
        "- $E \\rightarrow$ Young's Modulus\n",
        "- $K \\rightarrow$ Strength Coefficient\n",
        "- $e \\rightarrow$ Engineering Strain\n",
        "- $s \\rightarrow$ Engineering Stress\n",
        "- $\\theta \\rightarrow$ Work hardening rate\n",
        "- $\\sigma - \\sigma_{ys} \\rightarrow$ Flow Stress"
      ]
    },
    {
      "cell_type": "markdown",
      "metadata": {
        "id": "M2LChJ4e_GS1"
      },
      "source": [
        "## Calculation of constants in Hollomon equation\n",
        "\n",
        "$$ \\sigma = K \\cdot \\epsilon^n $$\n",
        "$$ ln(\\sigma) = ln(K) + n \\cdot ln(\\epsilon)$$"
      ]
    },
    {
      "cell_type": "code",
      "metadata": {
        "id": "7pHVQGcq_H-b",
        "colab": {
          "base_uri": "https://localhost:8080/",
          "height": 214
        },
        "outputId": "2d98c4d1-5957-4bd2-81df-c0caea1395cd"
      },
      "source": [
        "log_true_plastic_strain = np.log(true_plastic_strain)\n",
        "_ = plt.plot(log_true_plastic_strain, log_true_stress)\n",
        "_ = plt.xlabel('$ln(\\epsilon_{pl})$')\n",
        "_ = plt.ylabel('$ln(\\sigma)$')"
      ],
      "execution_count": null,
      "outputs": [
        {
          "output_type": "error",
          "ename": "AttributeError",
          "evalue": "ignored",
          "traceback": [
            "\u001b[0;31m---------------------------------------------------------------------------\u001b[0m",
            "\u001b[0;31mAttributeError\u001b[0m                            Traceback (most recent call last)",
            "\u001b[0;32m<ipython-input-20-c405b8611b3c>\u001b[0m in \u001b[0;36m<module>\u001b[0;34m()\u001b[0m\n\u001b[0;32m----> 1\u001b[0;31m \u001b[0mlog_true_plastic_strain\u001b[0m \u001b[0;34m=\u001b[0m \u001b[0mnp\u001b[0m\u001b[0;34m.\u001b[0m\u001b[0mlog\u001b[0m\u001b[0;34m(\u001b[0m\u001b[0mengineering_stress_strain_to_true_stress_strain\u001b[0m\u001b[0;34m.\u001b[0m\u001b[0mtrue_plastic_strain\u001b[0m\u001b[0;34m)\u001b[0m\u001b[0;34m\u001b[0m\u001b[0;34m\u001b[0m\u001b[0m\n\u001b[0m\u001b[1;32m      2\u001b[0m \u001b[0m_\u001b[0m \u001b[0;34m=\u001b[0m \u001b[0mplt\u001b[0m\u001b[0;34m.\u001b[0m\u001b[0mplot\u001b[0m\u001b[0;34m(\u001b[0m\u001b[0mlog_true_plastic_strain\u001b[0m\u001b[0;34m,\u001b[0m \u001b[0mengineering_stress_strain_to_true_stress_strain\u001b[0m\u001b[0;34m.\u001b[0m\u001b[0mlog_true_stress\u001b[0m\u001b[0;34m)\u001b[0m\u001b[0;34m\u001b[0m\u001b[0;34m\u001b[0m\u001b[0m\n\u001b[1;32m      3\u001b[0m \u001b[0m_\u001b[0m \u001b[0;34m=\u001b[0m \u001b[0mplt\u001b[0m\u001b[0;34m.\u001b[0m\u001b[0mxlabel\u001b[0m\u001b[0;34m(\u001b[0m\u001b[0;34m'$ln(\\epsilon_{pl})$'\u001b[0m\u001b[0;34m)\u001b[0m\u001b[0;34m\u001b[0m\u001b[0;34m\u001b[0m\u001b[0m\n\u001b[1;32m      4\u001b[0m \u001b[0m_\u001b[0m \u001b[0;34m=\u001b[0m \u001b[0mplt\u001b[0m\u001b[0;34m.\u001b[0m\u001b[0mylabel\u001b[0m\u001b[0;34m(\u001b[0m\u001b[0;34m'$ln(\\sigma)$'\u001b[0m\u001b[0;34m)\u001b[0m\u001b[0;34m\u001b[0m\u001b[0;34m\u001b[0m\u001b[0m\n",
            "\u001b[0;31mAttributeError\u001b[0m: module 'engineering_stress_strain_to_true_stress_strain' has no attribute 'true_plastic_strain'"
          ]
        }
      ]
    },
    {
      "cell_type": "code",
      "metadata": {
        "id": "dftg0ZD_A9K_"
      },
      "source": [
        "# Considering true plastic strain instead of true strain for calculating work\n",
        "# hardening exponent and strength coefficient.\n",
        "\n",
        "reshaped_log_true_plastic_strain = log_true_plastic_strain.reshape((-1,1))\n",
        "model = LinearRegression().fit(reshaped_log_true_plastic_strain, log_true_stress)\n",
        "coef = model.score(reshaped_log_true_plastic_strain, log_true_stress)\n",
        "work_hardening_exponent = model.coef_\n",
        "logk = model.intercept_\n",
        "strength_coefficient = np.exp(logk)\n",
        "print ('Work hardening exponent:', work_hardening_exponent)\n",
        "print('coefficient of determination:', coef)\n",
        "print('Strength coefficient:', strength_coefficient)\n",
        "Latex(r'$\\sigma = %f \\times \\epsilon_{pl} ^ {%f}$' % (strength_coefficient, work_hardening_exponent[0]))"
      ],
      "execution_count": null,
      "outputs": []
    },
    {
      "cell_type": "markdown",
      "metadata": {
        "id": "7zU6GB1pCBLC"
      },
      "source": [
        "## Comparison of hollomon equation and experiemental data"
      ]
    },
    {
      "cell_type": "code",
      "metadata": {
        "id": "n4YcGARaCBmt"
      },
      "source": [
        "theoretical_stress = [strength_coefficient*(true_plastic_strain[i]**work_hardening_exponent[0]) for i in range(len(true_plastic_strain))]\n",
        "plt.plot(true_plastic_strain, theoretical_stress, label='Theoretical Stress')\n",
        "plt.plot(true_plastic_strain, true_stress, label='Experimental Stress')\n",
        "plt.legend(loc='upper left')"
      ],
      "execution_count": null,
      "outputs": []
    },
    {
      "cell_type": "markdown",
      "metadata": {
        "id": "2ig_4lyEDBV4"
      },
      "source": [
        "## Work Hardening Rate plot"
      ]
    },
    {
      "cell_type": "code",
      "metadata": {
        "id": "szCc6QMODFIj"
      },
      "source": [
        " _, _, d_sigma_epsilon, _ = differentiate(true_plastic_strain, true_stress)\n",
        "# print(len(d_sigma_epsilon))\n",
        "# plt.scatter(true_plastic_strain[:len(true_plastic_strain)-1], d_sigma_epsilon)\n",
        "\n",
        "def func(strain, K, n):\n",
        "  return K*(strain**n)\n",
        "\n",
        "popt, pcov = optimize.curve_fit(func, true_plastic_strain[:len(true_plastic_strain)-1], d_sigma_epsilon, p0=[np.exp(logk), work_hardening_exponent[0]])\n",
        "print(popt)\n",
        "\n",
        "plt.plot(true_plastic_strain[:len(true_plastic_strain)-1], func(true_plastic_strain[:len(true_plastic_strain)-1], *popt), 'r-')"
      ],
      "execution_count": null,
      "outputs": []
    }
  ]
}