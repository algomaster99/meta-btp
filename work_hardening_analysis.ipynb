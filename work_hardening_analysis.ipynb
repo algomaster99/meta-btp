{
 "cells": [
  {
   "cell_type": "markdown",
   "metadata": {},
   "source": [
    "## Initialisation"
   ]
  },
  {
   "cell_type": "markdown",
   "metadata": {},
   "source": [
    "### Dependencies"
   ]
  },
  {
   "cell_type": "markdown",
   "metadata": {},
   "source": [
    "#### Third party"
   ]
  },
  {
   "cell_type": "code",
   "execution_count": 1,
   "metadata": {},
   "outputs": [],
   "source": [
    "import os\n",
    "import pandas as pd\n",
    "import numpy as np\n",
    "from matplotlib import pyplot as plt\n",
    "from scipy.optimize import curve_fit"
   ]
  },
  {
   "cell_type": "markdown",
   "metadata": {},
   "source": [
    "#### Personal notebook"
   ]
  },
  {
   "cell_type": "code",
   "execution_count": 2,
   "metadata": {},
   "outputs": [
    {
     "name": "stdout",
     "output_type": "stream",
     "text": [
      "An index file already exists for tensile_test_data.csv. Do you want to re-initalise? (Y/n): n\n",
      "An output file already exists for tensile_test_data.csv. Do you want to re-initalise? (Y/n): n\n"
     ]
    }
   ],
   "source": [
    "import ipynb\n",
    "\n",
    "from ipynb.fs.full.dataset_initialisation import (\n",
    "    ifile,\n",
    "    ofile,\n",
    "    OUTPUT_DIR,\n",
    ")\n",
    "from ipynb.fs.defs.utilities import (\n",
    "    differentiate,\n",
    ")\n",
    "\n",
    "if (os.path.exists(f'{OUTPUT_DIR}/true_plastic_strain_vs_true_stress.csv')):\n",
    "    df = pd.read_csv(f'{OUTPUT_DIR}/true_plastic_strain_vs_true_stress.csv', sep=',', names=['x','y'])\n",
    "    true_plastic_strain = df['x'].to_numpy()\n",
    "    true_stress = df['y'].to_numpy()\n",
    "else:\n",
    "    from ipynb.fs.full.true_strain_stress import (\n",
    "        true_plastic_strain,\n",
    "        true_stress,\n",
    "    )\n",
    "\n",
    "if (os.path.exists(f'{OUTPUT_DIR}/true_strain_vs_flow_stress.csv')):\n",
    "    df = pd.read_csv(f'{OUTPUT_DIR}/true_strain_vs_flow_stress.csv', sep=',', names=['x','y'])\n",
    "    true_strain = df['x'].to_numpy()\n",
    "    flow_stress = df['y'].to_numpy()\n",
    "else:\n",
    "    from ipynb.fs.full.true_strain_stress import (\n",
    "        true_strain,\n",
    "        flow_stress,\n",
    "    )\n",
    "\n",
    "yield_strength = ifile.get_parameter('yield_strength')\n",
    "if yield_strength is None:\n",
    "    from ipynb.fs.full.engineering_strain_stress import (\n",
    "        yield_strength,\n",
    "    )"
   ]
  },
  {
   "cell_type": "markdown",
   "metadata": {},
   "source": [
    "### Notations\n",
    "\n",
    "- $\\sigma \\rightarrow$ True Stress\n",
    "- $\\epsilon \\rightarrow$ True Strain\n",
    "- $\\epsilon_{pl} \\rightarrow$ True Plastic Strain\n",
    "- $\\sigma_{ys} \\rightarrow$ Yield Strength\n",
    "- $\\sigma_{uts} \\rightarrow$ Ultimate Tensile Strength\n",
    "- $n \\rightarrow$ Work hardening Exponent\n",
    "- $E \\rightarrow$ Young's Modulus\n",
    "- $K \\rightarrow$ Strength Coefficient\n",
    "- $e \\rightarrow$ Engineering Strain\n",
    "- $s \\rightarrow$ Engineering Stress\n",
    "- $\\theta \\rightarrow$ Work hardening rate\n",
    "- $\\sigma - \\sigma_{ys} \\rightarrow$ Flow Stress\n",
    "- $\\sigma_{s} \\rightarrow$ Saturation stress\n",
    "- $\\theta \\rightarrow$ Work hardening rate\n",
    "- $\\theta_{0} \\rightarrow$ Initial work hardening rate\n",
    "- $\\sigma_{v} \\rightarrow$ Scaling stress"
   ]
  },
  {
   "cell_type": "markdown",
   "metadata": {},
   "source": [
    "## Voce equation\n",
    "\n",
    "$$ \\sigma = \\sigma_{s} \\left(1 - exp\\left(\\frac{\\theta_{0}}{\\sigma_{v}}\\right) \\epsilon_{pl} \\right)  $$\n",
    "\n",
    "$$ \\sigma = \\sigma_{s} \\left(1 - exp\\left(\\frac{k_{2}}{2}\\right) \\epsilon_{pl} \\right) \\because \\frac{\\theta_{0}}{\\sigma_{v}} = \\frac{k_{2}}{2}$$\n",
    "\n",
    "$ \\therefore $ Therefore only two fitting parameters ($ k_{2} $ and $ \\sigma_{s} $) are necessary to describe the work hardening behaviour at a given temperature.\n",
    "\n",
    "$ A $ is $ \\sigma_{s} $\n",
    "$ \\\\ $\n",
    "$ B $ is $ \\frac{\\theta_{0}}{\\sigma_{v}} $\n",
    "\n",
    "For our experiment, we are assuming that scaling stress = saturation stress."
   ]
  },
  {
   "cell_type": "code",
   "execution_count": 3,
   "metadata": {},
   "outputs": [
    {
     "name": "stdout",
     "output_type": "stream",
     "text": [
      "Saturation stress: 207.2390461805622 MPa\n",
      "B: 14.674732351037889\n",
      "k2: 29.349464702075778\n"
     ]
    },
    {
     "data": {
      "image/png": "[encoded data removed]",
      "text/plain": [
       "<Figure size 432x288 with 1 Axes>"
      ]
     },
     "metadata": {
      "needs_background": "light"
     },
     "output_type": "display_data"
    }
   ],
   "source": [
    "def fit_voce(x, A, B): # A is saturation stress (sigma_s)\n",
    "    return A*(1-np.exp(-B*x))\n",
    "\n",
    "rhs_theoretical_voce = curve_fit(\n",
    "    fit_voce, true_plastic_strain, flow_stress, [100, 5], method='lm'\n",
    ")\n",
    "\n",
    "popt, _ = rhs_theoretical_voce\n",
    "sigma_s = popt[0]\n",
    "B = popt[1]\n",
    "\n",
    "fig, ax = plt.subplots(1,1)\n",
    "_ = ax.plot(true_plastic_strain, flow_stress)\n",
    "_ = ax.plot(true_plastic_strain, [fit_voce(pl,sigma_s,B) for pl in true_plastic_strain], 'r--')\n",
    "_ = ax.set_xlabel('$\\\\epsilon_{pl}$')\n",
    "_ = ax.set_ylabel('$\\sigma - \\sigma_{ys}$')\n",
    "\n",
    "_ = ax.legend(['Experimental Data','Fit'], loc='lower right')\n",
    "\n",
    "_ = plt.savefig(f'{OUTPUT_DIR}/Voce hardening equation', facecolor='white', transparent=True)\n",
    "\n",
    "print(f'Saturation stress: {sigma_s} MPa')\n",
    "print(f'B: {B}')\n",
    "print(f'k2: {2*B}')\n",
    "\n",
    "if ifile.add_parameter('sigma_s', sigma_s):\n",
    "    ofile.save_parameter('Saturation stress', sigma_s, 'MPa')\n",
    "\n",
    "if ifile.add_parameter('k2', 2*B):\n",
    "    ofile.save_parameter('k2 (Kocks mecking model)', 2*B, 'MPa')"
   ]
  },
  {
   "cell_type": "markdown",
   "metadata": {},
   "source": [
    "## Initial work hardening rate\n",
    "\n",
    "$ A $ is $ \\sigma_{s} $\n",
    "$ \\\\ $\n",
    "$ B $ is $ \\frac{\\theta_{0}}{\\sigma_{v}} $\n",
    "\n",
    "$ B = \\frac{\\theta_{0}}{\\sigma_{s}} \\because \\sigma_{v} = \\sigma_{s} $"
   ]
  },
  {
   "cell_type": "code",
   "execution_count": 4,
   "metadata": {},
   "outputs": [
    {
     "name": "stdout",
     "output_type": "stream",
     "text": [
      "Initial work hardening rate: 3041.1775353841313\n"
     ]
    }
   ],
   "source": [
    "theta_0 = B*sigma_s\n",
    "\n",
    "print(f'Initial work hardening rate: {theta_0}')\n",
    "\n",
    "if ifile.add_parameter('theta_0', theta_0):\n",
    "    ofile.save_parameter('Initial work hardening rate', theta_0, 'MPa')"
   ]
  },
  {
   "cell_type": "markdown",
   "metadata": {},
   "source": [
    "## Constants of Kocks-Mecking model\n",
    "\n",
    "$$ \\theta_{0} = \\frac{\\alpha\\mu bMk_{1}}{2} $$\n",
    "$$ \\sigma_{v} = \\frac{\\alpha\\mu bMk_{1}}{k_{2}} $$\n",
    "\n",
    "$$ k_{1} = \\frac{2\\theta_{0}}{\\alpha\\mu bM} $$\n",
    "$$ k_{2} = \\frac{2\\theta_{0}}{\\sigma_{v}} $$"
   ]
  },
  {
   "cell_type": "markdown",
   "metadata": {},
   "source": [
    "## Material constants"
   ]
  },
  {
   "cell_type": "code",
   "execution_count": 5,
   "metadata": {},
   "outputs": [],
   "source": [
    "alpha = 0.3\n",
    "burger_vector_mag = 2.86e-10 # m\n",
    "shear_modulus = 27e3\n",
    "taylor_factor = 3 # assuming random texture"
   ]
  },
  {
   "cell_type": "code",
   "execution_count": 6,
   "metadata": {},
   "outputs": [
    {
     "name": "stdout",
     "output_type": "stream",
     "text": [
      "k1: 875184188.1447326\n",
      "k2: 29.349464702075778\n"
     ]
    }
   ],
   "source": [
    "k1 = (2*theta_0)/(alpha*shear_modulus*burger_vector_mag*taylor_factor)\n",
    "k2 = (2*theta_0)/sigma_s\n",
    "\n",
    "print(f'k1: {k1}')\n",
    "print(f'k2: {k2}')\n",
    "\n",
    "if ifile.add_parameter('k1', k1):\n",
    "    ofile.save_parameter('k1 (Kocks mecking model)', k1, 'm^-1')"
   ]
  },
  {
   "cell_type": "markdown",
   "metadata": {},
   "source": [
    "$$ \\rho = \\left(\\frac{k1}{k2}\\right)^2 \\left(1-exp(\\frac{-k_{2}\\epsilon_{pl}}{2})\\right)^2 $$"
   ]
  },
  {
   "cell_type": "code",
   "execution_count": 7,
   "metadata": {},
   "outputs": [
    {
     "data": {
      "image/png": "[encoded data removed]",
      "text/plain": [
       "<Figure size 432x288 with 1 Axes>"
      ]
     },
     "metadata": {
      "needs_background": "light"
     },
     "output_type": "display_data"
    }
   ],
   "source": [
    "dislocation_density = [((k1/k2)**2) * ((1-np.exp((-k2*pl)/2))**2) for pl in true_plastic_strain]\n",
    "\n",
    "fig, ax = plt.subplots(1,1)\n",
    "_ = ax.plot(true_plastic_strain, dislocation_density)\n",
    "_ = ax.set_yscale('log')\n",
    "_ = ax.set_ylim(1e11, 1e16)\n",
    "_ = ax.set_xlabel('$\\epsilon_{pl}$')\n",
    "_ = ax.set_ylabel('$\\\\rho$')\n",
    "\n",
    "plt.savefig(f'{OUTPUT_DIR}/True plastic strain vs dislocation density', facecolor='white', transparent=False)\n",
    "\n",
    "pd.DataFrame(\n",
    "    np.transpose(np.asarray([true_plastic_strain, dislocation_density], dtype=object))\n",
    ").to_csv(f'{OUTPUT_DIR}/true_plastic_strain_vs_dislocation_density.csv', index=False, header=False)"
   ]
  },
  {
   "cell_type": "markdown",
   "metadata": {},
   "source": [
    "## Verifying value of $ \\rho_{s} $\n",
    "\n",
    "$\\rho_{s}$ can be calculated in 2 ways.\n",
    "\n",
    "#### Kocks mecking model\n",
    "$$ \\frac{d\\sigma}{d\\epsilon} = k_{1}\\sqrt \\rho - k_{2}\\rho $$\n",
    "\n",
    "At saturation stress, $ \\frac{d\\sigma}{d\\epsilon} = 0$\n",
    "\n",
    "$$ k_{1}\\sqrt \\rho_{rs} = k_{2}\\rho_{s} $$\n",
    "\n",
    "$$ \\rho_{s} = \\left(\\frac{k_{1}}{k_{2}}\\right)^2 $$\n",
    "\n",
    "#### Taylor equation\n",
    "$$ \\sigma = \\alpha\\mu bM \\sqrt \\rho  $$\n",
    "\n",
    "$$ \\rho_{s} = \\left(\\frac{\\sigma_{s}}{\\alpha\\mu bM} \\right)^2 $$"
   ]
  },
  {
   "cell_type": "code",
   "execution_count": 8,
   "metadata": {},
   "outputs": [
    {
     "data": {
      "text/plain": [
       "(889198161526842.5, 889198161526842.5)"
      ]
     },
     "execution_count": 8,
     "metadata": {},
     "output_type": "execute_result"
    }
   ],
   "source": [
    "lhs = (k1/k2)**2\n",
    "rhs = (sigma_s/(alpha*shear_modulus*burger_vector_mag*taylor_factor))**2\n",
    "\n",
    "(lhs, rhs)"
   ]
  },
  {
   "cell_type": "markdown",
   "metadata": {},
   "source": [
    "# Geometric obstacle\n",
    "\n",
    "$$ \\frac{d\\rho}{d\\epsilon_{pl}} = M \\left(k - k_{2}\\rho \\right)$$\n",
    "\n",
    "$$ k = \\frac{1}{bd} $$\n",
    "\n",
    "where; <br />\n",
    "$ d $ is spacing between the grains.\n",
    "\n",
    "Solving the differential equation results in:\n",
    "\n",
    "$$ \\sigma = M\\mu Gb \\sqrt{\\left(\\frac{k - \\lambda e^{-M\\epsilon_{pl}k_{2}}}{k_{2}}\\right)} $$"
   ]
  },
  {
   "cell_type": "code",
   "execution_count": 21,
   "metadata": {},
   "outputs": [
    {
     "name": "stdout",
     "output_type": "stream",
     "text": [
      "k2: 10.470655706701189\n"
     ]
    },
    {
     "name": "stderr",
     "output_type": "stream",
     "text": [
      "/home/poski/Desktop/btp/.env/lib/python3.8/site-packages/scipy/optimize/minpack.py:828: OptimizeWarning: Covariance of the parameters could not be estimated\n",
      "  warnings.warn('Covariance of the parameters could not be estimated',\n"
     ]
    },
    {
     "data": {
      "image/png": "[encoded data removed]",
      "text/plain": [
       "<Figure size 432x288 with 1 Axes>"
      ]
     },
     "metadata": {
      "needs_background": "light"
     },
     "output_type": "display_data"
    }
   ],
   "source": [
    "d = 1e-6\n",
    "def fit_geo (x, A, B):\n",
    "    return 3*alpha*shear_modulus*burger_vector_mag*np.sqrt(((1/(burger_vector_mag*d))-A*np.exp(-3*B*x))/B)\n",
    "\n",
    "theoretical_geo = curve_fit(\n",
    "    fit_geo, true_plastic_strain, flow_stress, method='lm'\n",
    ")\n",
    "popt, _ = theoretical_geo\n",
    "coeff_of_integration = popt[0]\n",
    "k2_geometric = popt[1]\n",
    "fig, ax = plt.subplots(1,1)\n",
    "_ = ax.plot(true_plastic_strain, flow_stress)\n",
    "_ = ax.plot(true_plastic_strain, [fit_geo(pl,coeff_of_integration,k2_geometric) for pl in true_plastic_strain], 'r--')\n",
    "_ = ax.set_xlabel('$\\\\epsilon_{pl}$')\n",
    "_ = ax.set_ylabel('$\\sigma - \\sigma_{ys}$')\n",
    "\n",
    "_ = ax.legend(['Experimental Data','Fit'], loc='lower right')\n",
    "\n",
    "print(f'k2: {k2_geometric}')\n",
    "\n",
    "if ifile.add_parameter('k2_geometric', k2_geometric):\n",
    "    ofile.save_parameter('k2 (Geometric obstacle)', k2_geometric, 'MPa')"
   ]
  }
 ],
 "metadata": {
  "kernelspec": {
   "display_name": "Python 3",
   "language": "python",
   "name": "python3"
  },
  "language_info": {
   "codemirror_mode": {
    "name": "ipython",
    "version": 3
   },
   "file_extension": ".py",
   "mimetype": "text/x-python",
   "name": "python",
   "nbconvert_exporter": "python",
   "pygments_lexer": "ipython3",
   "version": "3.8.5"
  }
 },
 "nbformat": 4,
 "nbformat_minor": 4
}
