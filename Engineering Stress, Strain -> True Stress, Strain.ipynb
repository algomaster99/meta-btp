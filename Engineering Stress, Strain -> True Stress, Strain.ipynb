{
 "cells": [
  {
   "cell_type": "markdown",
   "metadata": {},
   "source": [
    "## Initialise dependencies"
   ]
  },
  {
   "cell_type": "code",
   "execution_count": 1,
   "metadata": {},
   "outputs": [],
   "source": [
    "import pandas as pd\n",
    "import numpy as np\n",
    "from matplotlib import pyplot as plt"
   ]
  },
  {
   "cell_type": "markdown",
   "metadata": {},
   "source": [
    "## Utils"
   ]
  },
  {
   "cell_type": "markdown",
   "metadata": {},
   "source": [
    "### Derivative"
   ]
  },
  {
   "cell_type": "code",
   "execution_count": 2,
   "metadata": {},
   "outputs": [],
   "source": [
    "class DerivativeError(Exception):\n",
    "    def __init__(self, message):\n",
    "        super().__init__(message)\n",
    "\n",
    "def calculate_difference(points):\n",
    "    d_points = []\n",
    "    for i in range(0,len(points)-1):\n",
    "        p1 = points[i]\n",
    "        p2 = points[i+1]\n",
    "        d_points.append(p2-p1)\n",
    "    return d_points\n",
    "    \n",
    "def differentiate(x, y):\n",
    "    if len(x) != len(y):\n",
    "        raise DerivativeError('Unequal datapoints in the dataset')\n",
    "    d_x = calculate_difference(x)\n",
    "    d_y = calculate_difference(y)\n",
    "    return np.divide(d_y, d_x)"
   ]
  },
  {
   "cell_type": "markdown",
   "metadata": {},
   "source": [
    "## Engineering Strain v/s Engineering Stress"
   ]
  },
  {
   "cell_type": "code",
   "execution_count": 3,
   "metadata": {},
   "outputs": [
    {
     "data": {
      "text/plain": [
       "[<matplotlib.lines.Line2D at 0x7f35a22527c0>]"
      ]
     },
     "execution_count": 3,
     "metadata": {},
     "output_type": "execute_result"
    },
    {
     "data": {
      "image/png": "[encoded data removed]",
      "text/plain": [
       "<Figure size 432x288 with 1 Axes>"
      ]
     },
     "metadata": {
      "needs_background": "light"
     },
     "output_type": "display_data"
    }
   ],
   "source": [
    "x_label = 'Engineering Strain'\n",
    "y_label = 'Engineering Stress'\n",
    "dataset = pd.read_csv('./tensile_test_data.csv', sep='\\t', names=[x_label, y_label])\n",
    "x = dataset[x_label]\n",
    "y = dataset[y_label]\n",
    "plt.plot(x,y)"
   ]
  },
  {
   "cell_type": "code",
   "execution_count": 4,
   "metadata": {},
   "outputs": [
    {
     "name": "stderr",
     "output_type": "stream",
     "text": [
      "<ipython-input-2-4dcd8edf8b62>:18: RuntimeWarning: divide by zero encountered in true_divide\n",
      "  return np.divide(d_y, d_x)\n"
     ]
    },
    {
     "data": {
      "text/plain": [
       "[<matplotlib.lines.Line2D at 0x7f35a214d100>]"
      ]
     },
     "execution_count": 4,
     "metadata": {},
     "output_type": "execute_result"
    },
    {
     "data": {
      "image/png": "[encoded data removed]",
      "text/plain": [
       "<Figure size 432x288 with 1 Axes>"
      ]
     },
     "metadata": {
      "needs_background": "light"
     },
     "output_type": "display_data"
    }
   ],
   "source": [
    "first_order_derivative = differentiate(x,y)\n",
    "# plt.plot(x[0:200], first_order_derivative[:200])\n",
    "# second_order_derivative = differentiate(x[:len(x)-1], first_order_derivative)\n",
    "plt.plot(x[0:len(x)-1], first_order_derivative)\n",
    "# plt.plot(x[:len(x)-2], second_order_derivative)"
   ]
  },
  {
   "cell_type": "code",
   "execution_count": null,
   "metadata": {},
   "outputs": [],
   "source": []
  }
 ],
 "metadata": {
  "kernelspec": {
   "display_name": "Python 3",
   "language": "python",
   "name": "python3"
  },
  "language_info": {
   "codemirror_mode": {
    "name": "ipython",
    "version": 3
   },
   "file_extension": ".py",
   "mimetype": "text/x-python",
   "name": "python",
   "nbconvert_exporter": "python",
   "pygments_lexer": "ipython3",
   "version": "3.8.5"
  }
 },
 "nbformat": 4,
 "nbformat_minor": 4
}
