{
 "cells": [
  {
   "cell_type": "code",
   "execution_count": 13,
   "metadata": {},
   "outputs": [],
   "source": [
    "import os\n",
    "import numpy as np\n",
    "import pandas as pd"
   ]
  },
  {
   "cell_type": "markdown",
   "metadata": {
    "id": "3UDgR6Ajv6ox"
   },
   "source": [
    "## Derivative\n",
    "\n",
    "```python\n",
    "from utilities import differentiate\n",
    "```"
   ]
  },
  {
   "cell_type": "code",
   "execution_count": 1,
   "metadata": {
    "id": "6shiCKxBv8Rg"
   },
   "outputs": [],
   "source": [
    "class DerivativeError(Exception):\n",
    "  \"\"\"\n",
    "  Raised when there is an error in calculation of derivative\n",
    "  \"\"\"\n",
    "\n",
    "  def __init__(self, message):\n",
    "    super().__init__(message)\n",
    "\n",
    "def calculate_difference(points):\n",
    "  \"\"\"\n",
    "  Returns a list of difference between two consecutive elements of the\n",
    "  `points`.\n",
    "\n",
    "  :param points: list of elements whose differences need to be returned\n",
    "  :return: list of consectutive differences of elements in `points`\n",
    "\n",
    "  Example:\n",
    "  >>> points = [1,2,3,4]\n",
    "  >>> calculate_difference(points)\n",
    "  [1,1,1]\n",
    "\n",
    "  # The array is computed as - [2-1, 3-2, 4-3]\n",
    "  \"\"\"\n",
    "\n",
    "  d_points = []\n",
    "  for i in range(0,len(points)-1):\n",
    "    p1 = points[i]\n",
    "    p2 = points[i+1]\n",
    "    d_points.append(p2-p1)\n",
    "  return d_points\n",
    "\n",
    "def differentiate(x, y):\n",
    "  \"\"\"\n",
    "  Differentiates y with respect to x.\n",
    "\n",
    "  :param x: list of absicssae\n",
    "  :param y: list of ordinates\n",
    "  :return: derivative of y with respect to x\n",
    "\n",
    "  .. math::\n",
    "      \\frac{dx}{dy} = lim_{\\Delta x \\to 0} \\frac{\\Delta y}{\\Delta x}\n",
    "\n",
    "  This function is effective when :math:`\\Delta x \\approx 0 `.\n",
    "\n",
    "  Example:\n",
    "  >>> x = [1,2,3,4,5]\n",
    "  >>> y = [4,5,6,7,9]\n",
    "  >>> differentiate(x, y)\n",
    "  [1,1,1,2]\n",
    "  \"\"\"\n",
    "\n",
    "  if len(x) != len(y):\n",
    "    raise DerivativeError('Unequal datapoints in the dataset')\n",
    "  x = calculate_difference(x)\n",
    "  y = calculate_difference(y)\n",
    "  return [y[i]/x[i] for i in range(len(x))]"
   ]
  },
  {
   "cell_type": "markdown",
   "metadata": {
    "id": "ykPH0Tp1wHIo"
   },
   "source": [
    "## Group Duplicates\n",
    "\n",
    "```python\n",
    "from utilities import group_by\n",
    "```"
   ]
  },
  {
   "cell_type": "code",
   "execution_count": null,
   "metadata": {
    "id": "MNTFozHPwIWO"
   },
   "outputs": [],
   "source": [
    "def group_by(x, y):\n",
    "  \"\"\"\n",
    "  Attemts to convert a relation from `x` to `y` to a function from `x` to `y`\n",
    "  by grouping values of `y` as mean corresponding to same `x`.\n",
    "\n",
    "  :param x: list of absicssae\n",
    "  :param y: list of ordinates\n",
    "  :return: a function from `x` to `y`\n",
    "\n",
    "  Example:\n",
    "  >>> x = [1,1,1,2,3]\n",
    "  >>> y = [2,3,4,4,5]\n",
    "  >>> group_by(x, y)\n",
    "  ([1, 2, 3], [3, 4, 5])\n",
    "  \"\"\"\n",
    "\n",
    "  new_x = []\n",
    "  new_y = []\n",
    "  datapoints = len(x)\n",
    "  count = 1\n",
    "  sum = 0\n",
    "  for i in range(datapoints-1):\n",
    "    if x[i] == x[i+1]:\n",
    "      count += 1\n",
    "      sum += y[i]\n",
    "    elif x[i] != x[i+1]:\n",
    "      new_x.append(x[i])\n",
    "      if count == 1:\n",
    "        new_y.append(y[i])\n",
    "      else:\n",
    "        new_y.append((sum+y[i])/count)\n",
    "      count = 1\n",
    "      sum = 0\n",
    "  if x[datapoints - 1] == x[datapoints - 2]:\n",
    "    new_x.append(x[datapoints - 2])\n",
    "    new_y.append((sum+y[datapoints-1])/count)\n",
    "  else:\n",
    "    new_x.append(x[datapoints - 1])\n",
    "    new_y.append(y[datapoints - 1]/count)\n",
    "  return new_x, new_y"
   ]
  },
  {
   "cell_type": "markdown",
   "metadata": {},
   "source": [
    "## Find nearest element\n",
    "\n",
    "```python\n",
    "from utilities import find_nearest\n",
    "```"
   ]
  },
  {
   "cell_type": "code",
   "execution_count": 10,
   "metadata": {},
   "outputs": [],
   "source": [
    "def distance_formula(x, y, x1, y1):\n",
    "    return (x-x1)**2 + (y-y1)**2\n",
    "\n",
    "def find_nearest(x, y, estimated_x, estimated_y):\n",
    "    \"\"\"\n",
    "    Returns the index in the array whose value is nearest to `value`\n",
    "    :param array: list of values\n",
    "    :param value: value to be found\n",
    "    :return: the index in the array whose value is nearest to `value`\n",
    "    \"\"\"\n",
    "\n",
    "    idx = 0\n",
    "    best_so_far = distance_formula(x[idx], y[idx], estimated_x, estimated_y)\n",
    "    for i in range(len(x)):\n",
    "        if (best_so_far > distance_formula(x[i], y[i], estimated_x, estimated_y)):\n",
    "            best_so_far = distance_formula(x[i], y[i], estimated_x, estimated_y)\n",
    "            idx = i\n",
    "    return idx"
   ]
  },
  {
   "cell_type": "markdown",
   "metadata": {},
   "source": [
    "## Save plot and figures"
   ]
  },
  {
   "cell_type": "code",
   "execution_count": 4,
   "metadata": {},
   "outputs": [],
   "source": [
    "# Function defined to save figure to the output directory\n",
    "def save_fig (module, function, name):\n",
    "    method_to_call = getattr(module, function)\n",
    "    method_to_call(name)"
   ]
  },
  {
   "cell_type": "markdown",
   "metadata": {},
   "source": [
    "## Index and output file"
   ]
  },
  {
   "cell_type": "code",
   "execution_count": 16,
   "metadata": {},
   "outputs": [],
   "source": [
    "class FileNotOpen(Exception):\n",
    "    def __init__(self, filename):\n",
    "        message = f'{filename} not opened'\n",
    "        return super().__init__(message)\n",
    "\n",
    "\n",
    "class File:\n",
    "    def __init__(self, file_path, message):\n",
    "        self.file_path = file_path\n",
    "        self.file_object = None\n",
    "\n",
    "        if os.path.exists(self.file_path):\n",
    "            if File.choose_Y_n(message):\n",
    "                os.unlink(self.file_path)\n",
    "                with open(self.file_path, 'w'):\n",
    "                    pass\n",
    "        else:\n",
    "            with open(file_path, 'w'):\n",
    "                pass\n",
    "\n",
    "    @staticmethod\n",
    "    def choose_Y_n(message):\n",
    "        choose = input(f'{message} (Y/n): ').lower()\n",
    "        if choose in ['y', 'yes']:\n",
    "            return True\n",
    "        return False\n",
    "\n",
    "    def close_file(self):\n",
    "        if self.file_object is not None:\n",
    "            self.file_object.close()\n",
    "        else:\n",
    "            raise FileNotOpen(self.NAME)\n",
    "            \n",
    "\n",
    "class OutputFile(File):\n",
    "    NAME = 'output'\n",
    "\n",
    "    def open_file(self, mode='a'):\n",
    "        self.file_object = open(self.file_path, mode)\n",
    "\n",
    "    def save_parameter (self, name, variable, units):\n",
    "        self.open_file()\n",
    "        self.file_object.write(f'{name} = {variable} {units}\\n')\n",
    "        self.close_file()\n",
    "\n",
    "\n",
    "class IndexFile(File):\n",
    "    NAME = 'index'\n",
    "    COLUMN_NAME = 'Parameters'\n",
    "    SEPARATOR = ','\n",
    "\n",
    "    def open_file(self):\n",
    "        self.file_object = pd.read_csv(self.file_path, sep=self.SEPARATOR, names=[self.COLUMN_NAME])\n",
    "\n",
    "    def exists_parameter(self, parameter):\n",
    "        query_frame = self.file_object.loc[self.file_object[self.COLUMN_NAME] == parameter]\n",
    "        if query_frame.empty:\n",
    "            return False\n",
    "        return True\n",
    "\n",
    "    def add_parameter(self, parameter):\n",
    "        self.open_file()\n",
    "        if not self.exists_parameter(parameter):\n",
    "            self.file_object = self.file_object.append({self.COLUMN_NAME: parameter}, ignore_index=True)\n",
    "            self.file_object.to_csv(self.file_path, sep=self.SEPARATOR, header=False, index=False)\n",
    "            return True\n",
    "        return False"
   ]
  }
 ],
 "metadata": {
  "colab": {
   "name": "utilities.ipynb",
   "provenance": []
  },
  "kernelspec": {
   "display_name": "Python 3",
   "language": "python",
   "name": "python3"
  },
  "language_info": {
   "codemirror_mode": {
    "name": "ipython",
    "version": 3
   },
   "file_extension": ".py",
   "mimetype": "text/x-python",
   "name": "python",
   "nbconvert_exporter": "python",
   "pygments_lexer": "ipython3",
   "version": "3.8.5"
  }
 },
 "nbformat": 4,
 "nbformat_minor": 1
}
