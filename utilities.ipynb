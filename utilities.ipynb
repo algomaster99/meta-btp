{
 "cells": [
  {
   "cell_type": "code",
   "execution_count": 1,
   "metadata": {},
   "outputs": [],
   "source": [
    "import numpy as np"
   ]
  },
  {
   "cell_type": "markdown",
   "metadata": {
    "id": "3UDgR6Ajv6ox"
   },
   "source": [
    "## Derivative\n",
    "\n",
    "```python\n",
    "from utilities import differentiate\n",
    "```"
   ]
  },
  {
   "cell_type": "code",
   "execution_count": null,
   "metadata": {
    "id": "6shiCKxBv8Rg"
   },
   "outputs": [],
   "source": [
    "class DerivativeError(Exception):\n",
    "  \"\"\"\n",
    "  Raised when there is an error in calculation of derivative\n",
    "  \"\"\"\n",
    "\n",
    "  def __init__(self, message):\n",
    "    super().__init__(message)\n",
    "\n",
    "def calculate_difference(points):\n",
    "  \"\"\"\n",
    "  Returns a list of difference between two consecutive elements of the\n",
    "  `points`.\n",
    "\n",
    "  :param points: list of elements whose differences need to be returned\n",
    "  :return: list of consectutive differences of elements in `points`\n",
    "\n",
    "  Example:\n",
    "  >>> points = [1,2,3,4]\n",
    "  >>> calculate_difference(points)\n",
    "  [1,1,1]\n",
    "\n",
    "  # The array is computed as - [2-1, 3-2, 4-3]\n",
    "  \"\"\"\n",
    "\n",
    "  d_points = []\n",
    "  for i in range(0,len(points)-1):\n",
    "    p1 = points[i]\n",
    "    p2 = points[i+1]\n",
    "    d_points.append(p2-p1)\n",
    "  return d_points\n",
    "\n",
    "def differentiate(x, y):\n",
    "  \"\"\"\n",
    "  Differentiates y with respect to x.\n",
    "\n",
    "  :param x: list of absicssae\n",
    "  :param y: list of ordinates\n",
    "  :return: derivative of y with respect to x\n",
    "\n",
    "  .. math::\n",
    "      \\frac{dx}{dy} = lim_{\\Delta x \\to 0} \\frac{\\Delta y}{\\Delta x}\n",
    "\n",
    "  This function is effective when :math:`\\Delta x \\approx 0 `.\n",
    "\n",
    "  Example:\n",
    "  >>> x = [1,2,3,4,5]\n",
    "  >>> y = [4,5,6,7,9]\n",
    "  >>> differentiate(x, y)\n",
    "  [1,1,1,2]\n",
    "  \"\"\"\n",
    "\n",
    "  if len(x) != len(y):\n",
    "    raise DerivativeError('Unequal datapoints in the dataset')\n",
    "  x = calculate_difference(x)\n",
    "  y = calculate_difference(y)\n",
    "  i = 0\n",
    "  consider = []\n",
    "  while (i<len(x)):\n",
    "    # neglect values where delta(x) = 0\n",
    "    if x[i] == 0:\n",
    "      x = x[:i] + x[i+1:]\n",
    "      y = y[:i] + y[i+1:]\n",
    "      continue\n",
    "    consider.append(i)\n",
    "    i+=1\n",
    "  return x,  y, [y[i]/x[i] for i in range(len(x))], consider"
   ]
  },
  {
   "cell_type": "markdown",
   "metadata": {
    "id": "ykPH0Tp1wHIo"
   },
   "source": [
    "## Group Duplicates\n",
    "\n",
    "```python\n",
    "from utilities import group_by\n",
    "```"
   ]
  },
  {
   "cell_type": "code",
   "execution_count": null,
   "metadata": {
    "id": "MNTFozHPwIWO"
   },
   "outputs": [],
   "source": [
    "def group_by(x, y):\n",
    "  \"\"\"\n",
    "  Attemts to convert a relation from `x` to `y` to a function from `x` to `y`\n",
    "  by grouping values of `y` as mean corresponding to same `x`.\n",
    "\n",
    "  :param x: list of absicssae\n",
    "  :param y: list of ordinates\n",
    "  :return: a function from `x` to `y`\n",
    "\n",
    "  Example:\n",
    "  >>> x = [1,1,1,2,3]\n",
    "  >>> y = [2,3,4,4,5]\n",
    "  >>> group_by(x, y)\n",
    "  ([1, 2, 3], [3, 4, 5])\n",
    "  \"\"\"\n",
    "\n",
    "  new_x = []\n",
    "  new_y = []\n",
    "  datapoints = len(x)\n",
    "  count = 1\n",
    "  sum = 0\n",
    "  for i in range(datapoints-1):\n",
    "    if x[i] == x[i+1]:\n",
    "      count += 1\n",
    "      sum += y[i]\n",
    "    elif x[i] != x[i+1]:\n",
    "      new_x.append(x[i])\n",
    "      if count == 1:\n",
    "        new_y.append(y[i])\n",
    "      else:\n",
    "        new_y.append((sum+y[i])/count)\n",
    "      count = 1\n",
    "      sum = 0\n",
    "  if x[datapoints - 1] == x[datapoints - 2]:\n",
    "    new_x.append(x[datapoints - 2])\n",
    "    new_y.append((sum+y[datapoints-1])/count)\n",
    "  else:\n",
    "    new_x.append(x[datapoints - 1])\n",
    "    new_y.append(y[datapoints - 1]/count)\n",
    "  return new_x, new_y"
   ]
  },
  {
   "cell_type": "markdown",
   "metadata": {},
   "source": [
    "## Find nearest element\n",
    "\n",
    "```python\n",
    "from utilities import find_nearest\n",
    "```"
   ]
  },
  {
   "cell_type": "code",
   "execution_count": 6,
   "metadata": {},
   "outputs": [],
   "source": [
    "def find_nearest(array, value):\n",
    "    \"\"\"\n",
    "    Returns the index in the array whose value is nearest to `value`\n",
    "    :param array: list of values\n",
    "    :param value: value to be found\n",
    "    :return: the index in the array whose value is nearest to `value`\n",
    "    \"\"\"\n",
    "\n",
    "    array = np.asarray(array)\n",
    "    idx = (np.abs(array - value)).argmin()\n",
    "    return idx"
   ]
  }
 ],
 "metadata": {
  "colab": {
   "name": "utilities.ipynb",
   "provenance": []
  },
  "kernelspec": {
   "display_name": "Python 3",
   "language": "python",
   "name": "python3"
  },
  "language_info": {
   "codemirror_mode": {
    "name": "ipython",
    "version": 3
   },
   "file_extension": ".py",
   "mimetype": "text/x-python",
   "name": "python",
   "nbconvert_exporter": "python",
   "pygments_lexer": "ipython3",
   "version": "3.8.5"
  }
 },
 "nbformat": 4,
 "nbformat_minor": 1
}
