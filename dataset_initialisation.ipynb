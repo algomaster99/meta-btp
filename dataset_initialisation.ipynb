{
 "cells": [
  {
   "cell_type": "markdown",
   "metadata": {
    "id": "xmLckPumU_OB"
   },
   "source": [
    "## Dependencies"
   ]
  },
  {
   "cell_type": "markdown",
   "metadata": {
    "id": "udrbSyRKD7B3"
   },
   "source": [
    "### Third party"
   ]
  },
  {
   "cell_type": "code",
   "execution_count": 1,
   "metadata": {
    "colab": {
     "base_uri": "https://localhost:8080/"
    },
    "id": "6CsvU8cZU_OC",
    "outputId": "57cf5193-6cf7-4d11-d174-c2d2e2a5160d"
   },
   "outputs": [],
   "source": [
    "import os\n",
    "import pandas as pd"
   ]
  },
  {
   "cell_type": "markdown",
   "metadata": {},
   "source": [
    "### Personal notebooks"
   ]
  },
  {
   "cell_type": "code",
   "execution_count": 2,
   "metadata": {},
   "outputs": [],
   "source": [
    "from ipynb.fs.defs.utilities import (\n",
    "    OutputFile,\n",
    "    IndexFile,\n",
    ")"
   ]
  },
  {
   "cell_type": "markdown",
   "metadata": {
    "id": "XlYVlTrJU_OG"
   },
   "source": [
    "## Dataset\n",
    "\n",
    "\n",
    "\n"
   ]
  },
  {
   "cell_type": "code",
   "execution_count": 3,
   "metadata": {
    "id": "0vgkSJhyU_OG",
    "scrolled": true
   },
   "outputs": [],
   "source": [
    "PATH_TO_DATA = 'dataset/tensile_test_data.csv'\n",
    "\n",
    "x_label = 'Engineering Strain (mm/mm)'\n",
    "y_label = 'Engineering Stress (MPa)'\n",
    "dataset = pd.read_csv(PATH_TO_DATA, sep=',', names=[x_label, y_label])\n",
    "x = dataset[x_label]\n",
    "y = dataset[y_label]"
   ]
  },
  {
   "cell_type": "markdown",
   "metadata": {},
   "source": [
    "## Output and Index file"
   ]
  },
  {
   "cell_type": "code",
   "execution_count": 4,
   "metadata": {},
   "outputs": [],
   "source": [
    "PROJECT_NAME = os.path.basename(PATH_TO_DATA)\n",
    "OUTPUT_DIR = f'output/{PROJECT_NAME}'\n",
    "try:\n",
    "    os.makedirs(OUTPUT_DIR)\n",
    "except FileExistsError:\n",
    "    pass\n",
    "\n",
    "INDEX_FILE_PATH = f'{OUTPUT_DIR}/.index.csv'\n",
    "OUTPUT_FILE_PATH = f'{OUTPUT_DIR}/output.txt'\n",
    "\n",
    "ifile = IndexFile(\n",
    "    INDEX_FILE_PATH,\n",
    "    f'An index file already exists for {PROJECT_NAME}. Do you want to re-initalise?',\n",
    ")\n",
    "ofile = OutputFile(\n",
    "    OUTPUT_FILE_PATH,\n",
    "    f'An output file already exists for {PROJECT_NAME}. Do you want to re-initalise?',\n",
    ")"
   ]
  }
 ],
 "metadata": {
  "colab": {
   "collapsed_sections": [],
   "name": "dataset_initialisation.ipynb",
   "provenance": [],
   "toc_visible": true
  },
  "kernelspec": {
   "display_name": "Python 3",
   "language": "python",
   "name": "python3"
  },
  "language_info": {
   "codemirror_mode": {
    "name": "ipython",
    "version": 3
   },
   "file_extension": ".py",
   "mimetype": "text/x-python",
   "name": "python",
   "nbconvert_exporter": "python",
   "pygments_lexer": "ipython3",
   "version": "3.8.5"
  }
 },
 "nbformat": 4,
 "nbformat_minor": 1
}
