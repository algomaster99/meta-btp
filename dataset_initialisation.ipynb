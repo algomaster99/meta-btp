{
 "cells": [
  {
   "cell_type": "markdown",
   "metadata": {
    "id": "xmLckPumU_OB"
   },
   "source": [
    "## Dependencies"
   ]
  },
  {
   "cell_type": "markdown",
   "metadata": {
    "id": "udrbSyRKD7B3"
   },
   "source": [
    "### Third party"
   ]
  },
  {
   "cell_type": "code",
   "execution_count": 1,
   "metadata": {
    "colab": {
     "base_uri": "https://localhost:8080/"
    },
    "id": "6CsvU8cZU_OC",
    "outputId": "57cf5193-6cf7-4d11-d174-c2d2e2a5160d"
   },
   "outputs": [],
   "source": [
    "import os\n",
    "import pandas as pd"
   ]
  },
  {
   "cell_type": "markdown",
   "metadata": {},
   "source": [
    "### Personal notebooks"
   ]
  },
  {
   "cell_type": "code",
   "execution_count": 2,
   "metadata": {},
   "outputs": [],
   "source": [
    "from ipynb.fs.defs.utilities import (\n",
    "    OutputFile,\n",
    "    IndexFile,\n",
    ")"
   ]
  },
  {
   "cell_type": "markdown",
   "metadata": {
    "id": "XlYVlTrJU_OG"
   },
   "source": [
    "## Dataset\n",
    "\n",
    "Please note that we have removed values where $s < 0$ was true."
   ]
  },
  {
   "cell_type": "code",
   "execution_count": 3,
   "metadata": {
    "id": "0vgkSJhyU_OG",
    "scrolled": true
   },
   "outputs": [],
   "source": [
    "PATH_TO_DATASETS = [\n",
    "    '/home/poski/Desktop/btp/dataset/AA 2195 T8.csv',\n",
    "    '/home/poski/Desktop/btp/dataset/AA 2195 Solutionized.csv',\n",
    "    '/home/poski/Desktop/btp/dataset/Additive Manufactured SS 316L.csv',\n",
    "    '/home/poski/Desktop/btp/dataset/tensile_test_data.csv',\n",
    "]\n",
    "\n",
    "x_label = 'Engineering Strain (mm/mm)'\n",
    "y_label = 'Engineering Stress (MPa)'\n",
    "x = []\n",
    "y = []\n",
    "for path in PATH_TO_DATASETS:\n",
    "    dataset = pd.read_csv(path, sep=',', names=[x_label, y_label])\n",
    "    dataset_sanitised = dataset[(dataset[y_label] >= 0)]\n",
    "    dataset_sanitised.reset_index(inplace=True)\n",
    "    x.append(dataset_sanitised[x_label])\n",
    "    y.append(dataset_sanitised[y_label])"
   ]
  },
  {
   "cell_type": "markdown",
   "metadata": {},
   "source": [
    "## Output and Index file"
   ]
  },
  {
   "cell_type": "code",
   "execution_count": 4,
   "metadata": {},
   "outputs": [],
   "source": [
    "PROJECT_NAME = [os.path.splitext(os.path.basename(path))[0] for path in PATH_TO_DATASETS]\n",
    "OUTPUT_DIR = [f'output/{project}' for project in PROJECT_NAME]\n",
    "\n",
    "WORKSPACE_DIR = ''\n",
    "COMBINED_PATH = ''\n",
    "for idx, path in enumerate(PATH_TO_DATASETS):\n",
    "    COMBINED_PATH += f'{os.path.basename(path)}'\n",
    "    if idx != len(PATH_TO_DATASETS) - 1:\n",
    "        COMBINED_PATH += '+'\n",
    "\n",
    "COMBINED_OUTPUT_DIR = f'output/{COMBINED_PATH}'\n",
    "\n",
    "try:\n",
    "    [os.makedirs(output) for output in OUTPUT_DIR]\n",
    "    os.makedirs(COMBINED_OUTPUT_DIR)\n",
    "except FileExistsError:\n",
    "    pass\n",
    "\n",
    "INDEX_FILE_PATH = [f'{output}/.index.csv' for output in OUTPUT_DIR]\n",
    "OUTPUT_FILE_PATH = [f'{output}/output.txt' for output in OUTPUT_DIR]\n",
    "\n",
    "ifile = []\n",
    "\n",
    "for project, index_file_path in zip(PROJECT_NAME, INDEX_FILE_PATH):\n",
    "    ifile.append(\n",
    "        IndexFile(\n",
    "            index_file_path,\n",
    "            f'An index file already exists for {project}. Do you want to re-initalise?',\n",
    "        )\n",
    "    )\n",
    "\n",
    "ofile = []\n",
    "    \n",
    "for project, output_file_path in zip(PROJECT_NAME, OUTPUT_FILE_PATH):\n",
    "    ofile.append(\n",
    "        OutputFile(\n",
    "            output_file_path,\n",
    "            f'An output file already exists for {project}. Do you want to re-initalise?',\n",
    "        )\n",
    "    )"
   ]
  }
 ],
 "metadata": {
  "colab": {
   "collapsed_sections": [],
   "name": "dataset_initialisation.ipynb",
   "provenance": [],
   "toc_visible": true
  },
  "kernelspec": {
   "display_name": "Python 3",
   "language": "python",
   "name": "python3"
  },
  "language_info": {
   "codemirror_mode": {
    "name": "ipython",
    "version": 3
   },
   "file_extension": ".py",
   "mimetype": "text/x-python",
   "name": "python",
   "nbconvert_exporter": "python",
   "pygments_lexer": "ipython3",
   "version": "3.8.5"
  }
 },
 "nbformat": 4,
 "nbformat_minor": 1
}
