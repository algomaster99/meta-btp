{
 "cells": [
  {
   "cell_type": "markdown",
   "metadata": {
    "id": "xmLckPumU_OB"
   },
   "source": [
    "## Dependencies"
   ]
  },
  {
   "cell_type": "markdown",
   "metadata": {
    "id": "udrbSyRKD7B3"
   },
   "source": [
    "### Third party"
   ]
  },
  {
   "cell_type": "code",
   "execution_count": 2,
   "metadata": {
    "colab": {
     "base_uri": "https://localhost:8080/"
    },
    "id": "6CsvU8cZU_OC",
    "outputId": "57cf5193-6cf7-4d11-d174-c2d2e2a5160d"
   },
   "outputs": [],
   "source": [
    "import pandas as pd"
   ]
  },
  {
   "cell_type": "markdown",
   "metadata": {
    "id": "XlYVlTrJU_OG"
   },
   "source": [
    "## Dataset\n",
    "\n",
    "\n",
    "\n"
   ]
  },
  {
   "cell_type": "code",
   "execution_count": 4,
   "metadata": {
    "id": "0vgkSJhyU_OG",
    "scrolled": true
   },
   "outputs": [],
   "source": [
    "PATH_TO_DATA = 'dataset/tensile_test_data.csv'\n",
    "\n",
    "x_label = 'Engineering Strain (mm/mm)'\n",
    "y_label = 'Engineering Stress (MPa)'\n",
    "dataset = pd.read_csv(PATH_TO_DATA, sep=',', names=[x_label, y_label])\n",
    "x = dataset[x_label]\n",
    "y = dataset[y_label]"
   ]
  }
 ],
 "metadata": {
  "colab": {
   "collapsed_sections": [],
   "name": "dataset_initialisation.ipynb",
   "provenance": [],
   "toc_visible": true
  },
  "kernelspec": {
   "display_name": "Python 3",
   "language": "python",
   "name": "python3"
  },
  "language_info": {
   "codemirror_mode": {
    "name": "ipython",
    "version": 3
   },
   "file_extension": ".py",
   "mimetype": "text/x-python",
   "name": "python",
   "nbconvert_exporter": "python",
   "pygments_lexer": "ipython3",
   "version": "3.8.5"
  }
 },
 "nbformat": 4,
 "nbformat_minor": 1
}
