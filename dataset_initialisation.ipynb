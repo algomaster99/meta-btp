{
  "nbformat": 4,
  "nbformat_minor": 0,
  "metadata": {
    "kernelspec": {
      "display_name": "Python 3",
      "language": "python",
      "name": "python3"
    },
    "language_info": {
      "codemirror_mode": {
        "name": "ipython",
        "version": 3
      },
      "file_extension": ".py",
      "mimetype": "text/x-python",
      "name": "python",
      "nbconvert_exporter": "python",
      "pygments_lexer": "ipython3",
      "version": "3.8.5"
    },
    "colab": {
      "name": "dataset_initialisation.ipynb",
      "provenance": [],
      "collapsed_sections": [],
      "include_colab_link": true
    }
  },
  "cells": [
    {
      "cell_type": "markdown",
      "metadata": {
        "id": "view-in-github",
        "colab_type": "text"
      },
      "source": [
        "<a href=\"https://colab.research.google.com/github/algomaster99/meta-btp/blob/master/dataset_initialisation.ipynb\" target=\"_parent\"><img src=\"https://colab.research.google.com/assets/colab-badge.svg\" alt=\"Open In Colab\"/></a>"
      ]
    },
    {
      "cell_type": "markdown",
      "metadata": {
        "id": "xmLckPumU_OB"
      },
      "source": [
        "## Dependencies"
      ]
    },
    {
      "cell_type": "markdown",
      "metadata": {
        "id": "udrbSyRKD7B3"
      },
      "source": [
        "### Third party"
      ]
    },
    {
      "cell_type": "code",
      "metadata": {
        "id": "6CsvU8cZU_OC",
        "colab": {
          "base_uri": "https://localhost:8080/"
        },
        "outputId": "52e0ddae-99a3-4df6-c7e6-213557037cb6"
      },
      "source": [
        "import pandas as pd\n",
        "\n",
        "from google.colab import drive\n",
        "drive.mount('/content/drive')"
      ],
      "execution_count": 5,
      "outputs": [
        {
          "output_type": "stream",
          "text": [
            "Drive already mounted at /content/drive; to attempt to forcibly remount, call drive.mount(\"/content/drive\", force_remount=True).\n"
          ],
          "name": "stdout"
        }
      ]
    },
    {
      "cell_type": "markdown",
      "metadata": {
        "id": "XlYVlTrJU_OG"
      },
      "source": [
        "## Dataset\n",
        "\n",
        "\n",
        "\n"
      ]
    },
    {
      "cell_type": "code",
      "metadata": {
        "scrolled": true,
        "id": "0vgkSJhyU_OG"
      },
      "source": [
        "PATH_TO_DATA = '/content/drive/Shareddrives/meta-btp/tensile_test_data.csv'\n",
        "\n",
        "x_label = 'Engineering Strain (mm/mm)'\n",
        "y_label = 'Engineering Stress (MPa)'\n",
        "dataset = pd.read_csv(PATH_TO_DATA, sep='\\t', names=[x_label, y_label])\n",
        "x = dataset[x_label]\n",
        "y = dataset[y_label]"
      ],
      "execution_count": 6,
      "outputs": []
    }
  ]
}